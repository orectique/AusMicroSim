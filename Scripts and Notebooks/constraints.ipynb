{
 "cells": [
  {
   "cell_type": "code",
   "execution_count": 1,
   "metadata": {},
   "outputs": [],
   "source": [
    "import pandas as pd"
   ]
  },
  {
   "cell_type": "code",
   "execution_count": 7,
   "metadata": {},
   "outputs": [],
   "source": [
    "with open(\"../Data Files/ageSexIncomePostalAus.csv\", 'r') as f:\n",
    "    with open(\"../Data Files/constraintsAus.csv\", 'w') as g:\n",
    "        corpus = f.readlines()\n",
    "\n",
    "        for line in corpus:\n",
    "            g.write(line.strip()[:-1]+\"\\n\")"
   ]
  },
  {
   "cell_type": "code",
   "execution_count": 8,
   "metadata": {},
   "outputs": [
    {
     "name": "stderr",
     "output_type": "stream",
     "text": [
      "C:\\Users\\orect\\AppData\\Local\\Temp\\ipykernel_20152\\1573386866.py:1: DtypeWarning: Columns (0,1) have mixed types. Specify dtype option on import or set low_memory=False.\n",
      "  data = pd.read_csv(\"../Data Files/constraintsAus.csv\")\n"
     ]
    }
   ],
   "source": [
    "data = pd.read_csv(\"../Data Files/constraintsAus.csv\")"
   ]
  },
  {
   "cell_type": "code",
   "execution_count": 9,
   "metadata": {},
   "outputs": [],
   "source": [
    "data = data.reset_index(drop=False)"
   ]
  },
  {
   "cell_type": "code",
   "execution_count": 10,
   "metadata": {},
   "outputs": [],
   "source": [
    "data.columns = data.columns[1:].tolist() + [\"Count\"]"
   ]
  },
  {
   "cell_type": "code",
   "execution_count": 11,
   "metadata": {},
   "outputs": [],
   "source": [
    "data.fillna(method='ffill', inplace=True)"
   ]
  },
  {
   "cell_type": "code",
   "execution_count": 14,
   "metadata": {},
   "outputs": [
    {
     "data": {
      "text/html": [
       "<div>\n",
       "<style scoped>\n",
       "    .dataframe tbody tr th:only-of-type {\n",
       "        vertical-align: middle;\n",
       "    }\n",
       "\n",
       "    .dataframe tbody tr th {\n",
       "        vertical-align: top;\n",
       "    }\n",
       "\n",
       "    .dataframe thead th {\n",
       "        text-align: right;\n",
       "    }\n",
       "</style>\n",
       "<table border=\"1\" class=\"dataframe\">\n",
       "  <thead>\n",
       "    <tr style=\"text-align: right;\">\n",
       "      <th></th>\n",
       "      <th>AGE5P Age in Five Year Groups</th>\n",
       "      <th>SEXP Sex</th>\n",
       "      <th>INCP Total Personal Income (weekly)</th>\n",
       "      <th>POA (UR)</th>\n",
       "      <th>Count</th>\n",
       "    </tr>\n",
       "  </thead>\n",
       "  <tbody>\n",
       "    <tr>\n",
       "      <th>0</th>\n",
       "      <td>15-19 years</td>\n",
       "      <td>Male</td>\n",
       "      <td>$300-$399 ($15,600-$20,799)</td>\n",
       "      <td>POA2000</td>\n",
       "      <td>24</td>\n",
       "    </tr>\n",
       "    <tr>\n",
       "      <th>1</th>\n",
       "      <td>15-19 years</td>\n",
       "      <td>Male</td>\n",
       "      <td>$300-$399 ($15,600-$20,799)</td>\n",
       "      <td>POA2007</td>\n",
       "      <td>10</td>\n",
       "    </tr>\n",
       "    <tr>\n",
       "      <th>2</th>\n",
       "      <td>15-19 years</td>\n",
       "      <td>Male</td>\n",
       "      <td>$300-$399 ($15,600-$20,799)</td>\n",
       "      <td>POA2008</td>\n",
       "      <td>11</td>\n",
       "    </tr>\n",
       "    <tr>\n",
       "      <th>3</th>\n",
       "      <td>15-19 years</td>\n",
       "      <td>Male</td>\n",
       "      <td>$300-$399 ($15,600-$20,799)</td>\n",
       "      <td>POA2009</td>\n",
       "      <td>0</td>\n",
       "    </tr>\n",
       "    <tr>\n",
       "      <th>4</th>\n",
       "      <td>15-19 years</td>\n",
       "      <td>Male</td>\n",
       "      <td>$300-$399 ($15,600-$20,799)</td>\n",
       "      <td>POA2010</td>\n",
       "      <td>8</td>\n",
       "    </tr>\n",
       "  </tbody>\n",
       "</table>\n",
       "</div>"
      ],
      "text/plain": [
       "  AGE5P Age in Five Year Groups SEXP Sex INCP Total Personal Income (weekly)  \\\n",
       "0                   15-19 years     Male         $300-$399 ($15,600-$20,799)   \n",
       "1                   15-19 years     Male         $300-$399 ($15,600-$20,799)   \n",
       "2                   15-19 years     Male         $300-$399 ($15,600-$20,799)   \n",
       "3                   15-19 years     Male         $300-$399 ($15,600-$20,799)   \n",
       "4                   15-19 years     Male         $300-$399 ($15,600-$20,799)   \n",
       "\n",
       "  POA (UR)  Count  \n",
       "0  POA2000     24  \n",
       "1  POA2007     10  \n",
       "2  POA2008     11  \n",
       "3  POA2009      0  \n",
       "4  POA2010      8  "
      ]
     },
     "execution_count": 14,
     "metadata": {},
     "output_type": "execute_result"
    }
   ],
   "source": [
    "data.head()"
   ]
  },
  {
   "cell_type": "code",
   "execution_count": 15,
   "metadata": {},
   "outputs": [],
   "source": [
    "data = data[data['AGE5P Age in Five Year Groups'] != 'Total']"
   ]
  },
  {
   "cell_type": "code",
   "execution_count": 16,
   "metadata": {},
   "outputs": [
    {
     "name": "stdout",
     "output_type": "stream",
     "text": [
      "['15-19 years' '20-24 years' '25-29 years' '30-34 years' '35-39 years'\n",
      " '40-44 years' '45-49 years' '50-54 years' '55-59 years' '60-64 years'\n",
      " '65-69 years' '70-74 years' '75-79 years' '80-84 years' '85-89 years'\n",
      " '90-94 years' '95-99 years' '100 years and over']\n",
      "['Male' 'Female']\n",
      "['$300-$399 ($15,600-$20,799)' '$400-$499 ($20,800-$25,999)'\n",
      " '$500-$649 ($26,000-$33,799)' '$650-$799 ($33,800-$41,599)'\n",
      " '$800-$999 ($41,600-$51,999)' '$1,000-$1,249 ($52,000-$64,999)'\n",
      " '$1,250-$1,499 ($65,000-$77,999)' '$1,500-$1,749 ($78,000-$90,999)'\n",
      " '$1,750-$1,999 ($91,000-$103,999)' '$2,000-$2,999 ($104,000-$155,999)'\n",
      " '$3,000-$3,499 ($156,000-$181,999)' '$3,500 or more ($182,000 or more)']\n",
      "['POA2000' 'POA2007' 'POA2008' ... 'POA4825' 'POA9494' 'POA9797']\n",
      "[  24   10   11    0    8    7    4   15   23    9   13   17    5   16\n",
      "    3   14   25   31   29   36   28   27   39    6   26   45   22   21\n",
      "   38   37   18   42   19   32   35   12   34   68   65   20   80   49\n",
      "  117   57   52   64   66  147   70   74   30   55   54   46  110   59\n",
      "  101   51   48   33   41   47   82   40   60   88  104   83   69   58\n",
      "   96   63   67  122   98  149   44   50   72   76   90  125   53   43\n",
      "  102   56   71   95   79   97  177   81  105  130  109   61   93   78\n",
      "   62   86  108   84  127  131  106   85   94  111  133   73  119  100\n",
      "   91   75  171   92  132  103  179  113  126  199   89  146  154  166\n",
      "  184  107  136   99  128  134   77  182  129  206  168  201  123  118\n",
      "  112   87  115  180  156  121  172  175  141  152  145  144  116  135\n",
      "  222  142  151  181  189  140  165  120  290  155  163  316  124  383\n",
      "  114  176  297  248  302  164  213  244  238  159  226  167  161  188\n",
      "  150  194  153  263  138  148  137  221  231  204  162  239  157  227\n",
      "  379  158  361  203  307  160  246  223  186  178  174  433  187  241\n",
      "  435  283  306  254  170  343  197  340  139  487  217  173  482  322\n",
      "  190  407  214  269  296  261  257  143  319  242  198  265  354  169\n",
      "  202  210  234  196  191  353  235  393  310  338  236  183  291  192\n",
      "  193  425  200  311  295  271  209  205  315  281  399  587  366  423\n",
      "  225  211  276  287  437  300  332  258  304  195  478  230  262  279\n",
      "  185  278  250  216  342  357  389  403  305  489  298  339  243  293\n",
      "  282  394  228  369  286  289  212  255  448  264  682  471  245  584\n",
      "  215  207  220  292  375  275  603  208  417  424  288  224  365  668\n",
      "  370  368  256  270  219  272  218  352  430  511  376  406  240  456\n",
      "  229  301  266  249  252  321  259  268  341  573  360  329  318  344\n",
      "  274  458  312  277  267  233  284  579  374  280  419  351  381  495\n",
      "  232  285  273  378  447  404  443  362  455  612  260  294  397  335\n",
      "  325  251  373  415  308  317  604  418  299  409  358  405  320  460\n",
      "  337  336  472  237  510  524  442  253  485  380  328  572  891  571\n",
      "  679  346  334  355  684  313  436  497  330  359  309  324  347  382\n",
      "  615  583  401  641  345  350  371  326  726  392  986  769  323  331\n",
      "  526  247  773  372  499  558  721  303  385  327  363  468  432  314\n",
      "  647  465  520  421  514  364  395  388  367  431  559  410  532  449\n",
      "  386  446  459  484  593  616  476  586  588  502  348  590  428  521\n",
      "  398  675  592  552  553  574  429  333  563  349  420  438  413  396\n",
      "  790  463  661  516  457  439 1104  646  971  787  565  426  557  818\n",
      "  605  696  412  461  427  631  507  560  555  626  570  546  672  674\n",
      "  462  508  629  666  486  618  400  479  614  356  549  518  630  548\n",
      "  537  391  814  577  466  414  763  483  477  402  589  390  830  422\n",
      "  639  467 1119  704  906  923  473  384  952  556  725  831  677  377\n",
      "  620 1210  789  644  880  509  387  602  451  444 1212 1314  678  544\n",
      "  491  408  434  712  619  665  792  464  452  450  538  488  601  860\n",
      "  693  416  632  654  411  591  554  621  523  453  551  578  739  637\n",
      "  470  625  500  865  945  877 1151  517  440  474  581  527  567  522\n",
      "  445  480  569  820  756  506  492  503  441  636  475  493  528  498\n",
      "  706  531  481  718  868  828  659  662  627  652  550]\n"
     ]
    }
   ],
   "source": [
    "for column in data.columns:\n",
    "    print(data[column].unique())"
   ]
  },
  {
   "cell_type": "code",
   "execution_count": 17,
   "metadata": {},
   "outputs": [],
   "source": [
    "ageDict = {\n",
    "    '15-19 years' : 11, \n",
    "    '20-24 years' : 10, \n",
    "    '25-29 years' : 9, \n",
    "    '35-39 years' : 8,\n",
    "    '30-34 years' : 7, \n",
    "    '40-44 years' : 6, \n",
    "    '45-49 years' : 5, \n",
    "    '50-54 years' : 4,\n",
    "    '55-59 years' : 3, \n",
    "    '60-64 years' : 2, \n",
    "    '65-69 years' : 1, \n",
    "    '70-74 years' : 0,\n",
    "    '75-79 years' : 0, \n",
    "    '80-84 years' : 0, \n",
    "    '85-89 years' : 0, \n",
    "    '90-94 years' : 0,\n",
    "    '95-99 years' : 0, \n",
    "    '100 years and over' : 0\n",
    "}\n",
    "\n",
    "sexDict = {\n",
    "    'Male' : 0,\n",
    "    'Female' : 1\n",
    "}\n",
    "\n",
    "incomeDict = {\n",
    "    '$1,000-$1,249 ($52,000-$64,999)' : 2,\n",
    "    '$1,250-$1,499 ($65,000-$77,999)' : 3,\n",
    "    '$1,500-$1,749 ($78,000-$90,999)' : 3,\n",
    "    '$1,750-$1,999 ($91,000-$103,999)' : 4,\n",
    "    '$2,000-$2,999 ($104,000-$155,999)' : 4,\n",
    "    '$3,000-$3,499 ($156,000-$181,999)' : 4,\n",
    "    '$3,500 or more ($182,000 or more)' : 5, \n",
    "    '$300-$399 ($15,600-$20,799)' : 0,\n",
    "    '$400-$499 ($20,800-$25,999)' : 1, \n",
    "    '$500-$649 ($26,000-$33,799)' : 1,\n",
    "    '$650-$799 ($33,800-$41,599)' : 1, \n",
    "    '$800-$999 ($41,600-$51,999)' : 2\n",
    "}\n",
    "\n",
    "data[\"Income\"] = data[\"INCP Total Personal Income (weekly)\"].map(incomeDict)\n",
    "\n",
    "data[\"Age\"] = data[\"AGE5P Age in Five Year Groups\"].map(ageDict)\n",
    "data[\"Sex\"] = data[\"SEXP Sex\"].map(sexDict)"
   ]
  },
  {
   "cell_type": "code",
   "execution_count": 18,
   "metadata": {},
   "outputs": [],
   "source": [
    "data['Postal'] = data['POA (UR)'].str[3:].astype(int)"
   ]
  },
  {
   "cell_type": "code",
   "execution_count": 19,
   "metadata": {},
   "outputs": [
    {
     "data": {
      "text/html": [
       "<div>\n",
       "<style scoped>\n",
       "    .dataframe tbody tr th:only-of-type {\n",
       "        vertical-align: middle;\n",
       "    }\n",
       "\n",
       "    .dataframe tbody tr th {\n",
       "        vertical-align: top;\n",
       "    }\n",
       "\n",
       "    .dataframe thead th {\n",
       "        text-align: right;\n",
       "    }\n",
       "</style>\n",
       "<table border=\"1\" class=\"dataframe\">\n",
       "  <thead>\n",
       "    <tr style=\"text-align: right;\">\n",
       "      <th></th>\n",
       "      <th>AGE5P Age in Five Year Groups</th>\n",
       "      <th>SEXP Sex</th>\n",
       "      <th>INCP Total Personal Income (weekly)</th>\n",
       "      <th>POA (UR)</th>\n",
       "      <th>Count</th>\n",
       "      <th>Income</th>\n",
       "      <th>Age</th>\n",
       "      <th>Sex</th>\n",
       "      <th>Postal</th>\n",
       "    </tr>\n",
       "  </thead>\n",
       "  <tbody>\n",
       "    <tr>\n",
       "      <th>0</th>\n",
       "      <td>15-19 years</td>\n",
       "      <td>Male</td>\n",
       "      <td>$300-$399 ($15,600-$20,799)</td>\n",
       "      <td>POA2000</td>\n",
       "      <td>24</td>\n",
       "      <td>0</td>\n",
       "      <td>11</td>\n",
       "      <td>0</td>\n",
       "      <td>2000</td>\n",
       "    </tr>\n",
       "    <tr>\n",
       "      <th>1</th>\n",
       "      <td>15-19 years</td>\n",
       "      <td>Male</td>\n",
       "      <td>$300-$399 ($15,600-$20,799)</td>\n",
       "      <td>POA2007</td>\n",
       "      <td>10</td>\n",
       "      <td>0</td>\n",
       "      <td>11</td>\n",
       "      <td>0</td>\n",
       "      <td>2007</td>\n",
       "    </tr>\n",
       "    <tr>\n",
       "      <th>2</th>\n",
       "      <td>15-19 years</td>\n",
       "      <td>Male</td>\n",
       "      <td>$300-$399 ($15,600-$20,799)</td>\n",
       "      <td>POA2008</td>\n",
       "      <td>11</td>\n",
       "      <td>0</td>\n",
       "      <td>11</td>\n",
       "      <td>0</td>\n",
       "      <td>2008</td>\n",
       "    </tr>\n",
       "    <tr>\n",
       "      <th>3</th>\n",
       "      <td>15-19 years</td>\n",
       "      <td>Male</td>\n",
       "      <td>$300-$399 ($15,600-$20,799)</td>\n",
       "      <td>POA2009</td>\n",
       "      <td>0</td>\n",
       "      <td>0</td>\n",
       "      <td>11</td>\n",
       "      <td>0</td>\n",
       "      <td>2009</td>\n",
       "    </tr>\n",
       "    <tr>\n",
       "      <th>4</th>\n",
       "      <td>15-19 years</td>\n",
       "      <td>Male</td>\n",
       "      <td>$300-$399 ($15,600-$20,799)</td>\n",
       "      <td>POA2010</td>\n",
       "      <td>8</td>\n",
       "      <td>0</td>\n",
       "      <td>11</td>\n",
       "      <td>0</td>\n",
       "      <td>2010</td>\n",
       "    </tr>\n",
       "    <tr>\n",
       "      <th>...</th>\n",
       "      <td>...</td>\n",
       "      <td>...</td>\n",
       "      <td>...</td>\n",
       "      <td>...</td>\n",
       "      <td>...</td>\n",
       "      <td>...</td>\n",
       "      <td>...</td>\n",
       "      <td>...</td>\n",
       "      <td>...</td>\n",
       "    </tr>\n",
       "    <tr>\n",
       "      <th>1141771</th>\n",
       "      <td>100 years and over</td>\n",
       "      <td>Female</td>\n",
       "      <td>$3,500 or more ($182,000 or more)</td>\n",
       "      <td>POA4383</td>\n",
       "      <td>0</td>\n",
       "      <td>5</td>\n",
       "      <td>0</td>\n",
       "      <td>1</td>\n",
       "      <td>4383</td>\n",
       "    </tr>\n",
       "    <tr>\n",
       "      <th>1141772</th>\n",
       "      <td>100 years and over</td>\n",
       "      <td>Female</td>\n",
       "      <td>$3,500 or more ($182,000 or more)</td>\n",
       "      <td>POA4385</td>\n",
       "      <td>0</td>\n",
       "      <td>5</td>\n",
       "      <td>0</td>\n",
       "      <td>1</td>\n",
       "      <td>4385</td>\n",
       "    </tr>\n",
       "    <tr>\n",
       "      <th>1141773</th>\n",
       "      <td>100 years and over</td>\n",
       "      <td>Female</td>\n",
       "      <td>$3,500 or more ($182,000 or more)</td>\n",
       "      <td>POA4825</td>\n",
       "      <td>0</td>\n",
       "      <td>5</td>\n",
       "      <td>0</td>\n",
       "      <td>1</td>\n",
       "      <td>4825</td>\n",
       "    </tr>\n",
       "    <tr>\n",
       "      <th>1141774</th>\n",
       "      <td>100 years and over</td>\n",
       "      <td>Female</td>\n",
       "      <td>$3,500 or more ($182,000 or more)</td>\n",
       "      <td>POA9494</td>\n",
       "      <td>0</td>\n",
       "      <td>5</td>\n",
       "      <td>0</td>\n",
       "      <td>1</td>\n",
       "      <td>9494</td>\n",
       "    </tr>\n",
       "    <tr>\n",
       "      <th>1141775</th>\n",
       "      <td>100 years and over</td>\n",
       "      <td>Female</td>\n",
       "      <td>$3,500 or more ($182,000 or more)</td>\n",
       "      <td>POA9797</td>\n",
       "      <td>0</td>\n",
       "      <td>5</td>\n",
       "      <td>0</td>\n",
       "      <td>1</td>\n",
       "      <td>9797</td>\n",
       "    </tr>\n",
       "  </tbody>\n",
       "</table>\n",
       "<p>1141776 rows × 9 columns</p>\n",
       "</div>"
      ],
      "text/plain": [
       "        AGE5P Age in Five Year Groups SEXP Sex  \\\n",
       "0                         15-19 years     Male   \n",
       "1                         15-19 years     Male   \n",
       "2                         15-19 years     Male   \n",
       "3                         15-19 years     Male   \n",
       "4                         15-19 years     Male   \n",
       "...                               ...      ...   \n",
       "1141771            100 years and over   Female   \n",
       "1141772            100 years and over   Female   \n",
       "1141773            100 years and over   Female   \n",
       "1141774            100 years and over   Female   \n",
       "1141775            100 years and over   Female   \n",
       "\n",
       "        INCP Total Personal Income (weekly) POA (UR)  Count  Income  Age  Sex  \\\n",
       "0               $300-$399 ($15,600-$20,799)  POA2000     24       0   11    0   \n",
       "1               $300-$399 ($15,600-$20,799)  POA2007     10       0   11    0   \n",
       "2               $300-$399 ($15,600-$20,799)  POA2008     11       0   11    0   \n",
       "3               $300-$399 ($15,600-$20,799)  POA2009      0       0   11    0   \n",
       "4               $300-$399 ($15,600-$20,799)  POA2010      8       0   11    0   \n",
       "...                                     ...      ...    ...     ...  ...  ...   \n",
       "1141771   $3,500 or more ($182,000 or more)  POA4383      0       5    0    1   \n",
       "1141772   $3,500 or more ($182,000 or more)  POA4385      0       5    0    1   \n",
       "1141773   $3,500 or more ($182,000 or more)  POA4825      0       5    0    1   \n",
       "1141774   $3,500 or more ($182,000 or more)  POA9494      0       5    0    1   \n",
       "1141775   $3,500 or more ($182,000 or more)  POA9797      0       5    0    1   \n",
       "\n",
       "         Postal  \n",
       "0          2000  \n",
       "1          2007  \n",
       "2          2008  \n",
       "3          2009  \n",
       "4          2010  \n",
       "...         ...  \n",
       "1141771    4383  \n",
       "1141772    4385  \n",
       "1141773    4825  \n",
       "1141774    9494  \n",
       "1141775    9797  \n",
       "\n",
       "[1141776 rows x 9 columns]"
      ]
     },
     "execution_count": 19,
     "metadata": {},
     "output_type": "execute_result"
    }
   ],
   "source": [
    "data"
   ]
  },
  {
   "cell_type": "code",
   "execution_count": 20,
   "metadata": {},
   "outputs": [
    {
     "data": {
      "text/plain": [
       "Index(['AGE5P Age in Five Year Groups', 'SEXP Sex',\n",
       "       'INCP Total Personal Income (weekly)', 'POA (UR)', 'Count', 'Income',\n",
       "       'Age', 'Sex', 'Postal'],\n",
       "      dtype='object')"
      ]
     },
     "execution_count": 20,
     "metadata": {},
     "output_type": "execute_result"
    }
   ],
   "source": [
    "data.columns"
   ]
  },
  {
   "cell_type": "code",
   "execution_count": 21,
   "metadata": {},
   "outputs": [],
   "source": [
    "data.drop(columns=[\"AGE5P Age in Five Year Groups\", \"SEXP Sex\", \"INCP Total Personal Income (weekly)\", \"POA (UR)\"], inplace=True)"
   ]
  },
  {
   "cell_type": "code",
   "execution_count": 22,
   "metadata": {},
   "outputs": [
    {
     "data": {
      "text/html": [
       "<div>\n",
       "<style scoped>\n",
       "    .dataframe tbody tr th:only-of-type {\n",
       "        vertical-align: middle;\n",
       "    }\n",
       "\n",
       "    .dataframe tbody tr th {\n",
       "        vertical-align: top;\n",
       "    }\n",
       "\n",
       "    .dataframe thead th {\n",
       "        text-align: right;\n",
       "    }\n",
       "</style>\n",
       "<table border=\"1\" class=\"dataframe\">\n",
       "  <thead>\n",
       "    <tr style=\"text-align: right;\">\n",
       "      <th></th>\n",
       "      <th>Count</th>\n",
       "      <th>Income</th>\n",
       "      <th>Age</th>\n",
       "      <th>Sex</th>\n",
       "      <th>Postal</th>\n",
       "    </tr>\n",
       "  </thead>\n",
       "  <tbody>\n",
       "    <tr>\n",
       "      <th>0</th>\n",
       "      <td>24</td>\n",
       "      <td>0</td>\n",
       "      <td>11</td>\n",
       "      <td>0</td>\n",
       "      <td>2000</td>\n",
       "    </tr>\n",
       "    <tr>\n",
       "      <th>1</th>\n",
       "      <td>10</td>\n",
       "      <td>0</td>\n",
       "      <td>11</td>\n",
       "      <td>0</td>\n",
       "      <td>2007</td>\n",
       "    </tr>\n",
       "    <tr>\n",
       "      <th>2</th>\n",
       "      <td>11</td>\n",
       "      <td>0</td>\n",
       "      <td>11</td>\n",
       "      <td>0</td>\n",
       "      <td>2008</td>\n",
       "    </tr>\n",
       "    <tr>\n",
       "      <th>3</th>\n",
       "      <td>0</td>\n",
       "      <td>0</td>\n",
       "      <td>11</td>\n",
       "      <td>0</td>\n",
       "      <td>2009</td>\n",
       "    </tr>\n",
       "    <tr>\n",
       "      <th>4</th>\n",
       "      <td>8</td>\n",
       "      <td>0</td>\n",
       "      <td>11</td>\n",
       "      <td>0</td>\n",
       "      <td>2010</td>\n",
       "    </tr>\n",
       "  </tbody>\n",
       "</table>\n",
       "</div>"
      ],
      "text/plain": [
       "   Count  Income  Age  Sex  Postal\n",
       "0     24       0   11    0    2000\n",
       "1     10       0   11    0    2007\n",
       "2     11       0   11    0    2008\n",
       "3      0       0   11    0    2009\n",
       "4      8       0   11    0    2010"
      ]
     },
     "execution_count": 22,
     "metadata": {},
     "output_type": "execute_result"
    }
   ],
   "source": [
    "data.head()"
   ]
  },
  {
   "cell_type": "code",
   "execution_count": 23,
   "metadata": {},
   "outputs": [],
   "source": [
    "obj = data.groupby([ 'Income', 'Sex', 'Age', 'Postal']).sum()"
   ]
  },
  {
   "cell_type": "code",
   "execution_count": 24,
   "metadata": {},
   "outputs": [],
   "source": [
    "data = pd.DataFrame(obj.to_records()).sort_values(by = ['Age', 'Sex'])"
   ]
  },
  {
   "cell_type": "code",
   "execution_count": 25,
   "metadata": {},
   "outputs": [],
   "source": [
    "postal = pd.read_csv(\"../Data Files/postcodesRegions.csv\")\n",
    "\n",
    "postal['Postcode'] = postal['Postcode'].str.replace(\",\",\"\").astype(int)\n",
    "\n",
    "data['Region'] = data['Postal'].apply(lambda x: postal[postal['Postcode'] == x]['Region code'].values[0])"
   ]
  },
  {
   "cell_type": "code",
   "execution_count": 26,
   "metadata": {},
   "outputs": [],
   "source": [
    "data.to_csv(\"../Data Files/constraintsAus.csv\", index=False)"
   ]
  },
  {
   "cell_type": "code",
   "execution_count": 27,
   "metadata": {},
   "outputs": [],
   "source": [
    "import pandas as pd"
   ]
  },
  {
   "cell_type": "code",
   "execution_count": 28,
   "metadata": {},
   "outputs": [],
   "source": [
    "pops = pd.read_csv(\"../Data Files/2020_sample_file.csv\")"
   ]
  },
  {
   "cell_type": "code",
   "execution_count": 29,
   "metadata": {},
   "outputs": [
    {
     "data": {
      "text/plain": [
       "Index(['Ind', 'Gender', 'age_range', 'Occ_code', 'Partner_status', 'Region',\n",
       "       'Lodgment_method', 'PHI_Ind', 'Sw_amt', 'Alow_ben_amt', 'ETP_txbl_amt',\n",
       "       'Grs_int_amt', 'Aust_govt_pnsn_allw_amt', 'Unfranked_Div_amt',\n",
       "       'Frk_Div_amt', 'Dividends_franking_cr_amt', 'Net_rent_amt',\n",
       "       'Gross_rent_amt', 'Other_rent_ded_amt', 'Rent_int_ded_amt',\n",
       "       'Rent_cap_wks_amt', 'Net_farm_management_amt', 'Net_PP_BI_amt',\n",
       "       'Net_NPP_BI_amt', 'Total_PP_BI_amt', 'Total_NPP_BI_amt',\n",
       "       'Total_PP_BE_amt', 'Total_NPP_BE_amt', 'Net_CG_amt', 'Tot_CY_CG_amt',\n",
       "       'Net_PT_PP_dsn', 'Net_PT_NPP_dsn', 'Taxed_othr_pnsn_amt',\n",
       "       'Untaxed_othr_pnsn_amt', 'Other_foreign_inc_amt', 'Other_inc_amt',\n",
       "       'Tot_IncLoss_amt', 'WRE_car_amt', 'WRE_trvl_amt', 'WRE_uniform_amt',\n",
       "       'WRE_self_amt', 'WRE_other_amt', 'Div_Ded_amt', 'Intrst_Ded_amt',\n",
       "       'Gift_amt', 'Non_emp_spr_amt', 'Cost_tax_affairs_amt', 'Other_Ded_amt',\n",
       "       'Tot_ded_amt', 'PP_loss_claimed', 'NPP_loss_claimed',\n",
       "       'Rep_frng_ben_amt', 'Asbl_forgn_source_incm_amt',\n",
       "       'Net_fincl_invstmt_lss_amt', 'Rptbl_Empr_spr_cont_amt',\n",
       "       'Cr_PAYG_ITI_amt', 'TFN_amts_wheld_gr_intst_amt',\n",
       "       'TFN_amts_wheld_divs_amt', 'Hrs_to_prepare_BPI_cnt', 'Taxable_Income',\n",
       "       'Help_debt', 'Spr_Emplr_Contr', 'Spr_Prsnl_Contr', 'Spr_Othr_Contr',\n",
       "       'Spr_Ttl_Acnt_Bal'],\n",
       "      dtype='object')"
      ]
     },
     "execution_count": 29,
     "metadata": {},
     "output_type": "execute_result"
    }
   ],
   "source": [
    "pops.columns"
   ]
  },
  {
   "cell_type": "code",
   "execution_count": 30,
   "metadata": {},
   "outputs": [],
   "source": [
    "popSub = pops[[\"Ind\", \"Gender\", \"age_range\", \"Region\", \"Taxable_Income\"]]"
   ]
  },
  {
   "cell_type": "code",
   "execution_count": 31,
   "metadata": {},
   "outputs": [
    {
     "name": "stderr",
     "output_type": "stream",
     "text": [
      "C:\\Users\\orect\\AppData\\Local\\Temp\\ipykernel_20152\\3844878903.py:1: SettingWithCopyWarning: \n",
      "A value is trying to be set on a copy of a slice from a DataFrame.\n",
      "Try using .loc[row_indexer,col_indexer] = value instead\n",
      "\n",
      "See the caveats in the documentation: https://pandas.pydata.org/pandas-docs/stable/user_guide/indexing.html#returning-a-view-versus-a-copy\n",
      "  popSub[\"Taxable_Income\"] = 1.008**6*popSub[\"Taxable_Income\"]\n"
     ]
    }
   ],
   "source": [
    "popSub[\"Taxable_Income\"] = 1.008**6*popSub[\"Taxable_Income\"]"
   ]
  },
  {
   "cell_type": "code",
   "execution_count": 32,
   "metadata": {},
   "outputs": [],
   "source": [
    "popSub = popSub[popSub[\"Taxable_Income\"] >= 15600]"
   ]
  },
  {
   "cell_type": "code",
   "execution_count": 33,
   "metadata": {},
   "outputs": [
    {
     "data": {
      "text/plain": [
       "15600.286325943533"
      ]
     },
     "execution_count": 33,
     "metadata": {},
     "output_type": "execute_result"
    }
   ],
   "source": [
    "popSub[\"Taxable_Income\"].min()"
   ]
  },
  {
   "cell_type": "code",
   "execution_count": 34,
   "metadata": {},
   "outputs": [],
   "source": [
    "def incomeCat(income):\n",
    "    if income >= 15600 and income <= 20799:\n",
    "        val = 0\n",
    "    elif income >= 20800 and income <= 41599:\n",
    "        val = 1\n",
    "    elif income >= 41600 and income <= 64999:\n",
    "        val = 2\n",
    "    elif income >= 65000 and income <= 90999:\n",
    "        val = 3\n",
    "    elif income >= 91000 and income <= 181999:\n",
    "        val = 4\n",
    "    else:\n",
    "        val = 5\n",
    "    return val"
   ]
  },
  {
   "cell_type": "code",
   "execution_count": 35,
   "metadata": {},
   "outputs": [],
   "source": [
    "popSub[\"Income\"] = popSub[\"Taxable_Income\"].apply(incomeCat)"
   ]
  },
  {
   "cell_type": "code",
   "execution_count": 36,
   "metadata": {},
   "outputs": [],
   "source": [
    "popSub = popSub[popSub['Region'] != 33]"
   ]
  },
  {
   "cell_type": "code",
   "execution_count": 40,
   "metadata": {},
   "outputs": [],
   "source": [
    "popSub.to_csv('../Data Files/microdata.csv', index=False)"
   ]
  },
  {
   "cell_type": "code",
   "execution_count": null,
   "metadata": {},
   "outputs": [],
   "source": []
  }
 ],
 "metadata": {
  "kernelspec": {
   "display_name": "dataMining",
   "language": "python",
   "name": "python3"
  },
  "language_info": {
   "codemirror_mode": {
    "name": "ipython",
    "version": 3
   },
   "file_extension": ".py",
   "mimetype": "text/x-python",
   "name": "python",
   "nbconvert_exporter": "python",
   "pygments_lexer": "ipython3",
   "version": "3.10.12"
  },
  "orig_nbformat": 4
 },
 "nbformat": 4,
 "nbformat_minor": 2
}
