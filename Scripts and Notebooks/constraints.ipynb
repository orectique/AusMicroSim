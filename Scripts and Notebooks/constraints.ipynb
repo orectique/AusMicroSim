{
 "cells": [
  {
   "cell_type": "code",
   "execution_count": 106,
   "metadata": {},
   "outputs": [],
   "source": [
    "import pandas as pd"
   ]
  },
  {
   "cell_type": "code",
   "execution_count": 107,
   "metadata": {},
   "outputs": [],
   "source": [
    "data = pd.read_csv(\"../Data Files/ageSexZoneIncome.csv\")"
   ]
  },
  {
   "cell_type": "code",
   "execution_count": 108,
   "metadata": {},
   "outputs": [],
   "source": [
    "data.fillna(method='ffill', inplace=True)"
   ]
  },
  {
   "cell_type": "code",
   "execution_count": 109,
   "metadata": {},
   "outputs": [],
   "source": [
    "data = data[data['AGE5P Age in Five Year Groups'] != 'Total']"
   ]
  },
  {
   "cell_type": "code",
   "execution_count": 110,
   "metadata": {},
   "outputs": [
    {
     "name": "stdout",
     "output_type": "stream",
     "text": [
      "['15-19 years' '20-24 years' '25-29 years' '35-39 years' '30-34 years'\n",
      " '40-44 years' '45-49 years' '50-54 years' '55-59 years' '60-64 years'\n",
      " '65-69 years' '70-74 years' '75-79 years' '80-84 years' '85-89 years'\n",
      " '90-94 years' '95-99 years' '100 years and over']\n",
      "['Male' 'Female']\n",
      "[101. 102. 103. 104. 105. 106. 107. 108. 109. 110. 111. 112. 113. 114.\n",
      " 115. 116. 117. 118. 119. 120. 121. 122. 123. 124. 125. 126. 127. 128.]\n",
      "['$300-$399 ($15,600-$20,799)' '$400-$499 ($20,800-$25,999)'\n",
      " '$500-$649 ($26,000-$33,799)' '$650-$799 ($33,800-$41,599)'\n",
      " '$800-$999 ($41,600-$51,999)' '$1,000-$1,249 ($52,000-$64,999)'\n",
      " '$1,250-$1,499 ($65,000-$77,999)' '$1,500-$1,749 ($78,000-$90,999)'\n",
      " '$1,750-$1,999 ($91,000-$103,999)' '$2,000-$2,999 ($104,000-$155,999)'\n",
      " '$3,000-$3,499 ($156,000-$181,999)' '$3,500 or more ($182,000 or more)']\n",
      "[ 180  292  405 ... 1006  303 1505]\n"
     ]
    }
   ],
   "source": [
    "for column in data.columns:\n",
    "    print(data[column].unique())"
   ]
  },
  {
   "cell_type": "code",
   "execution_count": 73,
   "metadata": {},
   "outputs": [],
   "source": [
    "ageDict = {\n",
    "    '15-19 years' : 11, \n",
    "    '20-24 years' : 10, \n",
    "    '25-29 years' : 9, \n",
    "    '35-39 years' : 8,\n",
    "    '30-34 years' : 7, \n",
    "    '40-44 years' : 6, \n",
    "    '45-49 years' : 5, \n",
    "    '50-54 years' : 4,\n",
    "    '55-59 years' : 3, \n",
    "    '60-64 years' : 2, \n",
    "    '65-69 years' : 1, \n",
    "    '70-74 years' : 0,\n",
    "    '75-79 years' : 0, \n",
    "    '80-84 years' : 0, \n",
    "    '85-89 years' : 0, \n",
    "    '90-94 years' : 0,\n",
    "    '95-99 years' : 0, \n",
    "    '100 years and over' : 0\n",
    "}\n",
    "\n",
    "sexDict = {\n",
    "    'Male' : 0,\n",
    "    'Female' : 1\n",
    "}\n",
    "\n",
    "incomeDict = {\n",
    "    '$1,000-$1,249 ($52,000-$64,999)' : 2,\n",
    "    '$1,250-$1,499 ($65,000-$77,999)' : 3,\n",
    "    '$1,500-$1,749 ($78,000-$90,999)' : 3,\n",
    "    '$1,750-$1,999 ($91,000-$103,999)' : 4,\n",
    "    '$2,000-$2,999 ($104,000-$155,999)' : 4,\n",
    "    '$3,000-$3,499 ($156,000-$181,999)' : 4,\n",
    "    '$3,500 or more ($182,000 or more)' : 5, \n",
    "    '$300-$399 ($15,600-$20,799)' : 0,\n",
    "    '$400-$499 ($20,800-$25,999)' : 1, \n",
    "    '$500-$649 ($26,000-$33,799)' : 1,\n",
    "    '$650-$799 ($33,800-$41,599)' : 1, \n",
    "    '$800-$999 ($41,600-$51,999)' : 2\n",
    "}\n",
    "\n",
    "data[\"Income\"] = data[\"INCP Total Personal Income (weekly)\"].map(incomeDict)\n",
    "\n",
    "data[\"Age\"] = data[\"AGE5P Age in Five Year Groups\"].map(ageDict)\n",
    "data[\"Sex\"] = data[\"SEXP Sex\"].map(sexDict)"
   ]
  },
  {
   "cell_type": "code",
   "execution_count": 74,
   "metadata": {},
   "outputs": [
    {
     "data": {
      "text/html": [
       "<div>\n",
       "<style scoped>\n",
       "    .dataframe tbody tr th:only-of-type {\n",
       "        vertical-align: middle;\n",
       "    }\n",
       "\n",
       "    .dataframe tbody tr th {\n",
       "        vertical-align: top;\n",
       "    }\n",
       "\n",
       "    .dataframe thead th {\n",
       "        text-align: right;\n",
       "    }\n",
       "</style>\n",
       "<table border=\"1\" class=\"dataframe\">\n",
       "  <thead>\n",
       "    <tr style=\"text-align: right;\">\n",
       "      <th></th>\n",
       "      <th>AGE5P Age in Five Year Groups</th>\n",
       "      <th>SEXP Sex</th>\n",
       "      <th>SA4 (POW)</th>\n",
       "      <th>INCP Total Personal Income (weekly)</th>\n",
       "      <th>Freq</th>\n",
       "      <th>Income</th>\n",
       "      <th>Age</th>\n",
       "      <th>Sex</th>\n",
       "    </tr>\n",
       "  </thead>\n",
       "  <tbody>\n",
       "    <tr>\n",
       "      <th>0</th>\n",
       "      <td>15-19 years</td>\n",
       "      <td>Male</td>\n",
       "      <td>101.0</td>\n",
       "      <td>$300-$399 ($15,600-$20,799)</td>\n",
       "      <td>180</td>\n",
       "      <td>0</td>\n",
       "      <td>11</td>\n",
       "      <td>0</td>\n",
       "    </tr>\n",
       "    <tr>\n",
       "      <th>1</th>\n",
       "      <td>15-19 years</td>\n",
       "      <td>Male</td>\n",
       "      <td>101.0</td>\n",
       "      <td>$400-$499 ($20,800-$25,999)</td>\n",
       "      <td>292</td>\n",
       "      <td>1</td>\n",
       "      <td>11</td>\n",
       "      <td>0</td>\n",
       "    </tr>\n",
       "    <tr>\n",
       "      <th>2</th>\n",
       "      <td>15-19 years</td>\n",
       "      <td>Male</td>\n",
       "      <td>101.0</td>\n",
       "      <td>$500-$649 ($26,000-$33,799)</td>\n",
       "      <td>405</td>\n",
       "      <td>1</td>\n",
       "      <td>11</td>\n",
       "      <td>0</td>\n",
       "    </tr>\n",
       "    <tr>\n",
       "      <th>3</th>\n",
       "      <td>15-19 years</td>\n",
       "      <td>Male</td>\n",
       "      <td>101.0</td>\n",
       "      <td>$650-$799 ($33,800-$41,599)</td>\n",
       "      <td>255</td>\n",
       "      <td>1</td>\n",
       "      <td>11</td>\n",
       "      <td>0</td>\n",
       "    </tr>\n",
       "    <tr>\n",
       "      <th>4</th>\n",
       "      <td>15-19 years</td>\n",
       "      <td>Male</td>\n",
       "      <td>101.0</td>\n",
       "      <td>$800-$999 ($41,600-$51,999)</td>\n",
       "      <td>168</td>\n",
       "      <td>2</td>\n",
       "      <td>11</td>\n",
       "      <td>0</td>\n",
       "    </tr>\n",
       "    <tr>\n",
       "      <th>...</th>\n",
       "      <td>...</td>\n",
       "      <td>...</td>\n",
       "      <td>...</td>\n",
       "      <td>...</td>\n",
       "      <td>...</td>\n",
       "      <td>...</td>\n",
       "      <td>...</td>\n",
       "      <td>...</td>\n",
       "    </tr>\n",
       "    <tr>\n",
       "      <th>12091</th>\n",
       "      <td>100 years and over</td>\n",
       "      <td>Female</td>\n",
       "      <td>128.0</td>\n",
       "      <td>$1,500-$1,749 ($78,000-$90,999)</td>\n",
       "      <td>0</td>\n",
       "      <td>3</td>\n",
       "      <td>0</td>\n",
       "      <td>1</td>\n",
       "    </tr>\n",
       "    <tr>\n",
       "      <th>12092</th>\n",
       "      <td>100 years and over</td>\n",
       "      <td>Female</td>\n",
       "      <td>128.0</td>\n",
       "      <td>$1,750-$1,999 ($91,000-$103,999)</td>\n",
       "      <td>0</td>\n",
       "      <td>4</td>\n",
       "      <td>0</td>\n",
       "      <td>1</td>\n",
       "    </tr>\n",
       "    <tr>\n",
       "      <th>12093</th>\n",
       "      <td>100 years and over</td>\n",
       "      <td>Female</td>\n",
       "      <td>128.0</td>\n",
       "      <td>$2,000-$2,999 ($104,000-$155,999)</td>\n",
       "      <td>0</td>\n",
       "      <td>4</td>\n",
       "      <td>0</td>\n",
       "      <td>1</td>\n",
       "    </tr>\n",
       "    <tr>\n",
       "      <th>12094</th>\n",
       "      <td>100 years and over</td>\n",
       "      <td>Female</td>\n",
       "      <td>128.0</td>\n",
       "      <td>$3,000-$3,499 ($156,000-$181,999)</td>\n",
       "      <td>0</td>\n",
       "      <td>4</td>\n",
       "      <td>0</td>\n",
       "      <td>1</td>\n",
       "    </tr>\n",
       "    <tr>\n",
       "      <th>12095</th>\n",
       "      <td>100 years and over</td>\n",
       "      <td>Female</td>\n",
       "      <td>128.0</td>\n",
       "      <td>$3,500 or more ($182,000 or more)</td>\n",
       "      <td>0</td>\n",
       "      <td>5</td>\n",
       "      <td>0</td>\n",
       "      <td>1</td>\n",
       "    </tr>\n",
       "  </tbody>\n",
       "</table>\n",
       "<p>12096 rows × 8 columns</p>\n",
       "</div>"
      ],
      "text/plain": [
       "      AGE5P Age in Five Year Groups SEXP Sex  SA4 (POW)  \\\n",
       "0                       15-19 years     Male      101.0   \n",
       "1                       15-19 years     Male      101.0   \n",
       "2                       15-19 years     Male      101.0   \n",
       "3                       15-19 years     Male      101.0   \n",
       "4                       15-19 years     Male      101.0   \n",
       "...                             ...      ...        ...   \n",
       "12091            100 years and over   Female      128.0   \n",
       "12092            100 years and over   Female      128.0   \n",
       "12093            100 years and over   Female      128.0   \n",
       "12094            100 years and over   Female      128.0   \n",
       "12095            100 years and over   Female      128.0   \n",
       "\n",
       "      INCP Total Personal Income (weekly)  Freq  Income  Age  Sex  \n",
       "0             $300-$399 ($15,600-$20,799)   180       0   11    0  \n",
       "1             $400-$499 ($20,800-$25,999)   292       1   11    0  \n",
       "2             $500-$649 ($26,000-$33,799)   405       1   11    0  \n",
       "3             $650-$799 ($33,800-$41,599)   255       1   11    0  \n",
       "4             $800-$999 ($41,600-$51,999)   168       2   11    0  \n",
       "...                                   ...   ...     ...  ...  ...  \n",
       "12091     $1,500-$1,749 ($78,000-$90,999)     0       3    0    1  \n",
       "12092    $1,750-$1,999 ($91,000-$103,999)     0       4    0    1  \n",
       "12093   $2,000-$2,999 ($104,000-$155,999)     0       4    0    1  \n",
       "12094   $3,000-$3,499 ($156,000-$181,999)     0       4    0    1  \n",
       "12095   $3,500 or more ($182,000 or more)     0       5    0    1  \n",
       "\n",
       "[12096 rows x 8 columns]"
      ]
     },
     "execution_count": 74,
     "metadata": {},
     "output_type": "execute_result"
    }
   ],
   "source": [
    "data"
   ]
  },
  {
   "cell_type": "code",
   "execution_count": 75,
   "metadata": {},
   "outputs": [
    {
     "data": {
      "text/plain": [
       "Index(['AGE5P Age in Five Year Groups', 'SEXP Sex', 'SA4 (POW)',\n",
       "       'INCP Total Personal Income (weekly)', 'Freq', 'Income', 'Age', 'Sex'],\n",
       "      dtype='object')"
      ]
     },
     "execution_count": 75,
     "metadata": {},
     "output_type": "execute_result"
    }
   ],
   "source": [
    "data.columns"
   ]
  },
  {
   "cell_type": "code",
   "execution_count": 76,
   "metadata": {},
   "outputs": [],
   "source": [
    "data.drop(columns=[\"AGE5P Age in Five Year Groups\", \"SEXP Sex\", \"INCP Total Personal Income (weekly)\"], inplace=True)"
   ]
  },
  {
   "cell_type": "code",
   "execution_count": 77,
   "metadata": {},
   "outputs": [],
   "source": [
    "obj = data.groupby([ 'Income', 'Sex', 'Age', 'SA4 (POW)']).sum()"
   ]
  },
  {
   "cell_type": "code",
   "execution_count": 78,
   "metadata": {},
   "outputs": [],
   "source": [
    "data = pd.DataFrame(obj.to_records()).sort_values(by = ['Age', 'Sex'])"
   ]
  },
  {
   "cell_type": "code",
   "execution_count": 101,
   "metadata": {},
   "outputs": [],
   "source": [
    "data.to_csv(\"../Data Files/constraintsIncome.csv\", index=False)"
   ]
  },
  {
   "cell_type": "code",
   "execution_count": 96,
   "metadata": {},
   "outputs": [],
   "source": [
    "pops = pd.read_csv(\"../Data Files/2020_sample_file.csv\")"
   ]
  },
  {
   "cell_type": "code",
   "execution_count": 97,
   "metadata": {},
   "outputs": [
    {
     "data": {
      "text/plain": [
       "Index(['Ind', 'Gender', 'age_range', 'Occ_code', 'Partner_status', 'Region',\n",
       "       'Lodgment_method', 'PHI_Ind', 'Sw_amt', 'Alow_ben_amt', 'ETP_txbl_amt',\n",
       "       'Grs_int_amt', 'Aust_govt_pnsn_allw_amt', 'Unfranked_Div_amt',\n",
       "       'Frk_Div_amt', 'Dividends_franking_cr_amt', 'Net_rent_amt',\n",
       "       'Gross_rent_amt', 'Other_rent_ded_amt', 'Rent_int_ded_amt',\n",
       "       'Rent_cap_wks_amt', 'Net_farm_management_amt', 'Net_PP_BI_amt',\n",
       "       'Net_NPP_BI_amt', 'Total_PP_BI_amt', 'Total_NPP_BI_amt',\n",
       "       'Total_PP_BE_amt', 'Total_NPP_BE_amt', 'Net_CG_amt', 'Tot_CY_CG_amt',\n",
       "       'Net_PT_PP_dsn', 'Net_PT_NPP_dsn', 'Taxed_othr_pnsn_amt',\n",
       "       'Untaxed_othr_pnsn_amt', 'Other_foreign_inc_amt', 'Other_inc_amt',\n",
       "       'Tot_IncLoss_amt', 'WRE_car_amt', 'WRE_trvl_amt', 'WRE_uniform_amt',\n",
       "       'WRE_self_amt', 'WRE_other_amt', 'Div_Ded_amt', 'Intrst_Ded_amt',\n",
       "       'Gift_amt', 'Non_emp_spr_amt', 'Cost_tax_affairs_amt', 'Other_Ded_amt',\n",
       "       'Tot_ded_amt', 'PP_loss_claimed', 'NPP_loss_claimed',\n",
       "       'Rep_frng_ben_amt', 'Asbl_forgn_source_incm_amt',\n",
       "       'Net_fincl_invstmt_lss_amt', 'Rptbl_Empr_spr_cont_amt',\n",
       "       'Cr_PAYG_ITI_amt', 'TFN_amts_wheld_gr_intst_amt',\n",
       "       'TFN_amts_wheld_divs_amt', 'Hrs_to_prepare_BPI_cnt', 'Taxable_Income',\n",
       "       'Help_debt', 'Spr_Emplr_Contr', 'Spr_Prsnl_Contr', 'Spr_Othr_Contr',\n",
       "       'Spr_Ttl_Acnt_Bal'],\n",
       "      dtype='object')"
      ]
     },
     "execution_count": 97,
     "metadata": {},
     "output_type": "execute_result"
    }
   ],
   "source": [
    "pops.columns"
   ]
  },
  {
   "cell_type": "code",
   "execution_count": 98,
   "metadata": {},
   "outputs": [
    {
     "name": "stdout",
     "output_type": "stream",
     "text": [
      "<class 'pandas.core.frame.DataFrame'>\n",
      "RangeIndex: 299162 entries, 0 to 299161\n",
      "Data columns (total 65 columns):\n",
      " #   Column                       Non-Null Count   Dtype \n",
      "---  ------                       --------------   ----- \n",
      " 0   Ind                          299162 non-null  int64 \n",
      " 1   Gender                       299162 non-null  int64 \n",
      " 2   age_range                    299162 non-null  int64 \n",
      " 3   Occ_code                     299162 non-null  int64 \n",
      " 4   Partner_status               299162 non-null  int64 \n",
      " 5   Region                       299162 non-null  int64 \n",
      " 6   Lodgment_method              299162 non-null  object\n",
      " 7   PHI_Ind                      299162 non-null  int64 \n",
      " 8   Sw_amt                       299162 non-null  int64 \n",
      " 9   Alow_ben_amt                 299162 non-null  int64 \n",
      " 10  ETP_txbl_amt                 299162 non-null  int64 \n",
      " 11  Grs_int_amt                  299162 non-null  int64 \n",
      " 12  Aust_govt_pnsn_allw_amt      299162 non-null  int64 \n",
      " 13  Unfranked_Div_amt            299162 non-null  int64 \n",
      " 14  Frk_Div_amt                  299162 non-null  int64 \n",
      " 15  Dividends_franking_cr_amt    299162 non-null  int64 \n",
      " 16  Net_rent_amt                 299162 non-null  int64 \n",
      " 17  Gross_rent_amt               299162 non-null  int64 \n",
      " 18  Other_rent_ded_amt           299162 non-null  int64 \n",
      " 19  Rent_int_ded_amt             299162 non-null  int64 \n",
      " 20  Rent_cap_wks_amt             299162 non-null  int64 \n",
      " 21  Net_farm_management_amt      299162 non-null  int64 \n",
      " 22  Net_PP_BI_amt                299162 non-null  int64 \n",
      " 23  Net_NPP_BI_amt               299162 non-null  int64 \n",
      " 24  Total_PP_BI_amt              299162 non-null  int64 \n",
      " 25  Total_NPP_BI_amt             299162 non-null  int64 \n",
      " 26  Total_PP_BE_amt              299162 non-null  int64 \n",
      " 27  Total_NPP_BE_amt             299162 non-null  int64 \n",
      " 28  Net_CG_amt                   299162 non-null  int64 \n",
      " 29  Tot_CY_CG_amt                299162 non-null  int64 \n",
      " 30  Net_PT_PP_dsn                299162 non-null  int64 \n",
      " 31  Net_PT_NPP_dsn               299162 non-null  int64 \n",
      " 32  Taxed_othr_pnsn_amt          299162 non-null  int64 \n",
      " 33  Untaxed_othr_pnsn_amt        299162 non-null  int64 \n",
      " 34  Other_foreign_inc_amt        299162 non-null  int64 \n",
      " 35  Other_inc_amt                299162 non-null  int64 \n",
      " 36  Tot_IncLoss_amt              299162 non-null  int64 \n",
      " 37  WRE_car_amt                  299162 non-null  int64 \n",
      " 38  WRE_trvl_amt                 299162 non-null  int64 \n",
      " 39  WRE_uniform_amt              299162 non-null  int64 \n",
      " 40  WRE_self_amt                 299162 non-null  int64 \n",
      " 41  WRE_other_amt                299162 non-null  int64 \n",
      " 42  Div_Ded_amt                  299162 non-null  int64 \n",
      " 43  Intrst_Ded_amt               299162 non-null  int64 \n",
      " 44  Gift_amt                     299162 non-null  int64 \n",
      " 45  Non_emp_spr_amt              299162 non-null  int64 \n",
      " 46  Cost_tax_affairs_amt         299162 non-null  int64 \n",
      " 47  Other_Ded_amt                299162 non-null  int64 \n",
      " 48  Tot_ded_amt                  299162 non-null  int64 \n",
      " 49  PP_loss_claimed              299162 non-null  int64 \n",
      " 50  NPP_loss_claimed             299162 non-null  int64 \n",
      " 51  Rep_frng_ben_amt             299162 non-null  int64 \n",
      " 52  Asbl_forgn_source_incm_amt   299162 non-null  int64 \n",
      " 53  Net_fincl_invstmt_lss_amt    299162 non-null  int64 \n",
      " 54  Rptbl_Empr_spr_cont_amt      299162 non-null  int64 \n",
      " 55  Cr_PAYG_ITI_amt              299162 non-null  int64 \n",
      " 56  TFN_amts_wheld_gr_intst_amt  299162 non-null  int64 \n",
      " 57  TFN_amts_wheld_divs_amt      299162 non-null  int64 \n",
      " 58  Hrs_to_prepare_BPI_cnt       299162 non-null  int64 \n",
      " 59  Taxable_Income               299162 non-null  int64 \n",
      " 60  Help_debt                    299162 non-null  int64 \n",
      " 61  Spr_Emplr_Contr              299162 non-null  int64 \n",
      " 62  Spr_Prsnl_Contr              299162 non-null  int64 \n",
      " 63  Spr_Othr_Contr               299162 non-null  int64 \n",
      " 64  Spr_Ttl_Acnt_Bal             299162 non-null  int64 \n",
      "dtypes: int64(64), object(1)\n",
      "memory usage: 148.4+ MB\n"
     ]
    }
   ],
   "source": [
    "pops.info()"
   ]
  },
  {
   "cell_type": "code",
   "execution_count": 99,
   "metadata": {},
   "outputs": [],
   "source": [
    "pops = pops[[\"Ind\", \"Gender\", \"age_range\", \"Occ_code\", \"Region\", \"Taxable_Income\"]]"
   ]
  },
  {
   "cell_type": "code",
   "execution_count": 100,
   "metadata": {},
   "outputs": [
    {
     "data": {
      "text/html": [
       "<div>\n",
       "<style scoped>\n",
       "    .dataframe tbody tr th:only-of-type {\n",
       "        vertical-align: middle;\n",
       "    }\n",
       "\n",
       "    .dataframe tbody tr th {\n",
       "        vertical-align: top;\n",
       "    }\n",
       "\n",
       "    .dataframe thead th {\n",
       "        text-align: right;\n",
       "    }\n",
       "</style>\n",
       "<table border=\"1\" class=\"dataframe\">\n",
       "  <thead>\n",
       "    <tr style=\"text-align: right;\">\n",
       "      <th></th>\n",
       "      <th>Ind</th>\n",
       "      <th>Gender</th>\n",
       "      <th>age_range</th>\n",
       "      <th>Occ_code</th>\n",
       "      <th>Region</th>\n",
       "      <th>Taxable_Income</th>\n",
       "    </tr>\n",
       "  </thead>\n",
       "  <tbody>\n",
       "    <tr>\n",
       "      <th>0</th>\n",
       "      <td>297985</td>\n",
       "      <td>0</td>\n",
       "      <td>10</td>\n",
       "      <td>7</td>\n",
       "      <td>14</td>\n",
       "      <td>64907</td>\n",
       "    </tr>\n",
       "    <tr>\n",
       "      <th>1</th>\n",
       "      <td>151836</td>\n",
       "      <td>1</td>\n",
       "      <td>6</td>\n",
       "      <td>4</td>\n",
       "      <td>1</td>\n",
       "      <td>56872</td>\n",
       "    </tr>\n",
       "    <tr>\n",
       "      <th>2</th>\n",
       "      <td>148818</td>\n",
       "      <td>0</td>\n",
       "      <td>9</td>\n",
       "      <td>3</td>\n",
       "      <td>9</td>\n",
       "      <td>24575</td>\n",
       "    </tr>\n",
       "    <tr>\n",
       "      <th>3</th>\n",
       "      <td>235341</td>\n",
       "      <td>1</td>\n",
       "      <td>6</td>\n",
       "      <td>0</td>\n",
       "      <td>28</td>\n",
       "      <td>0</td>\n",
       "    </tr>\n",
       "    <tr>\n",
       "      <th>4</th>\n",
       "      <td>46063</td>\n",
       "      <td>0</td>\n",
       "      <td>5</td>\n",
       "      <td>1</td>\n",
       "      <td>1</td>\n",
       "      <td>206698</td>\n",
       "    </tr>\n",
       "    <tr>\n",
       "      <th>...</th>\n",
       "      <td>...</td>\n",
       "      <td>...</td>\n",
       "      <td>...</td>\n",
       "      <td>...</td>\n",
       "      <td>...</td>\n",
       "      <td>...</td>\n",
       "    </tr>\n",
       "    <tr>\n",
       "      <th>299157</th>\n",
       "      <td>159649</td>\n",
       "      <td>0</td>\n",
       "      <td>10</td>\n",
       "      <td>9</td>\n",
       "      <td>12</td>\n",
       "      <td>76035</td>\n",
       "    </tr>\n",
       "    <tr>\n",
       "      <th>299158</th>\n",
       "      <td>213239</td>\n",
       "      <td>1</td>\n",
       "      <td>4</td>\n",
       "      <td>0</td>\n",
       "      <td>9</td>\n",
       "      <td>28557</td>\n",
       "    </tr>\n",
       "    <tr>\n",
       "      <th>299159</th>\n",
       "      <td>292115</td>\n",
       "      <td>1</td>\n",
       "      <td>11</td>\n",
       "      <td>4</td>\n",
       "      <td>14</td>\n",
       "      <td>18579</td>\n",
       "    </tr>\n",
       "    <tr>\n",
       "      <th>299160</th>\n",
       "      <td>78224</td>\n",
       "      <td>1</td>\n",
       "      <td>2</td>\n",
       "      <td>5</td>\n",
       "      <td>1</td>\n",
       "      <td>44533</td>\n",
       "    </tr>\n",
       "    <tr>\n",
       "      <th>299161</th>\n",
       "      <td>117662</td>\n",
       "      <td>0</td>\n",
       "      <td>2</td>\n",
       "      <td>2</td>\n",
       "      <td>23</td>\n",
       "      <td>772014</td>\n",
       "    </tr>\n",
       "  </tbody>\n",
       "</table>\n",
       "<p>299162 rows × 6 columns</p>\n",
       "</div>"
      ],
      "text/plain": [
       "           Ind  Gender  age_range  Occ_code  Region  Taxable_Income\n",
       "0       297985       0         10         7      14           64907\n",
       "1       151836       1          6         4       1           56872\n",
       "2       148818       0          9         3       9           24575\n",
       "3       235341       1          6         0      28               0\n",
       "4        46063       0          5         1       1          206698\n",
       "...        ...     ...        ...       ...     ...             ...\n",
       "299157  159649       0         10         9      12           76035\n",
       "299158  213239       1          4         0       9           28557\n",
       "299159  292115       1         11         4      14           18579\n",
       "299160   78224       1          2         5       1           44533\n",
       "299161  117662       0          2         2      23          772014\n",
       "\n",
       "[299162 rows x 6 columns]"
      ]
     },
     "execution_count": 100,
     "metadata": {},
     "output_type": "execute_result"
    }
   ],
   "source": [
    "pops"
   ]
  },
  {
   "cell_type": "code",
   "execution_count": 87,
   "metadata": {},
   "outputs": [
    {
     "data": {
      "text/html": [
       "<div>\n",
       "<style scoped>\n",
       "    .dataframe tbody tr th:only-of-type {\n",
       "        vertical-align: middle;\n",
       "    }\n",
       "\n",
       "    .dataframe tbody tr th {\n",
       "        vertical-align: top;\n",
       "    }\n",
       "\n",
       "    .dataframe thead th {\n",
       "        text-align: right;\n",
       "    }\n",
       "</style>\n",
       "<table border=\"1\" class=\"dataframe\">\n",
       "  <thead>\n",
       "    <tr style=\"text-align: right;\">\n",
       "      <th></th>\n",
       "      <th>Ind</th>\n",
       "      <th>Gender</th>\n",
       "      <th>age_range</th>\n",
       "      <th>Occ_code</th>\n",
       "      <th>Region</th>\n",
       "      <th>Taxable_Income</th>\n",
       "    </tr>\n",
       "  </thead>\n",
       "  <tbody>\n",
       "  </tbody>\n",
       "</table>\n",
       "</div>"
      ],
      "text/plain": [
       "Empty DataFrame\n",
       "Columns: [Ind, Gender, age_range, Occ_code, Region, Taxable_Income]\n",
       "Index: []"
      ]
     },
     "execution_count": 87,
     "metadata": {},
     "output_type": "execute_result"
    }
   ],
   "source": [
    "pops[pops[\"Region\"].isin(data[\"SA4 (POW)\"].unique())]"
   ]
  },
  {
   "cell_type": "code",
   "execution_count": 1,
   "metadata": {},
   "outputs": [],
   "source": [
    "def expo(k, l = 5):\n",
    "    return k**l"
   ]
  },
  {
   "cell_type": "code",
   "execution_count": 2,
   "metadata": {},
   "outputs": [
    {
     "data": {
      "text/plain": [
       "9"
      ]
     },
     "execution_count": 2,
     "metadata": {},
     "output_type": "execute_result"
    }
   ],
   "source": [
    "expo(3, 2)"
   ]
  },
  {
   "cell_type": "code",
   "execution_count": 3,
   "metadata": {},
   "outputs": [
    {
     "data": {
      "text/plain": [
       "243"
      ]
     },
     "execution_count": 3,
     "metadata": {},
     "output_type": "execute_result"
    }
   ],
   "source": [
    "expo(3)"
   ]
  },
  {
   "cell_type": "code",
   "execution_count": null,
   "metadata": {},
   "outputs": [],
   "source": []
  }
 ],
 "metadata": {
  "kernelspec": {
   "display_name": "dataMining",
   "language": "python",
   "name": "python3"
  },
  "language_info": {
   "codemirror_mode": {
    "name": "ipython",
    "version": 3
   },
   "file_extension": ".py",
   "mimetype": "text/x-python",
   "name": "python",
   "nbconvert_exporter": "python",
   "pygments_lexer": "ipython3",
   "version": "3.10.9"
  },
  "orig_nbformat": 4
 },
 "nbformat": 4,
 "nbformat_minor": 2
}
