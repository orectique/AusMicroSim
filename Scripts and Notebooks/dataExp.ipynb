{
 "cells": [
  {
   "cell_type": "code",
   "execution_count": 1,
   "metadata": {},
   "outputs": [],
   "source": [
    "import pandas as pd"
   ]
  },
  {
   "cell_type": "code",
   "execution_count": 2,
   "metadata": {},
   "outputs": [],
   "source": [
    "pop = pd.read_csv(\"../Output Files/synthPop.csv\")"
   ]
  },
  {
   "cell_type": "code",
   "execution_count": 3,
   "metadata": {},
   "outputs": [
    {
     "data": {
      "text/html": [
       "<div>\n",
       "<style scoped>\n",
       "    .dataframe tbody tr th:only-of-type {\n",
       "        vertical-align: middle;\n",
       "    }\n",
       "\n",
       "    .dataframe tbody tr th {\n",
       "        vertical-align: top;\n",
       "    }\n",
       "\n",
       "    .dataframe thead th {\n",
       "        text-align: right;\n",
       "    }\n",
       "</style>\n",
       "<table border=\"1\" class=\"dataframe\">\n",
       "  <thead>\n",
       "    <tr style=\"text-align: right;\">\n",
       "      <th></th>\n",
       "      <th>age_range</th>\n",
       "      <th>Gender</th>\n",
       "      <th>Region</th>\n",
       "      <th>Partner_status</th>\n",
       "      <th>Taxable_Income</th>\n",
       "      <th>Income</th>\n",
       "      <th>Occ_code</th>\n",
       "      <th>Postal</th>\n",
       "      <th>Taxes_2018</th>\n",
       "      <th>Taxes_2022</th>\n",
       "      <th>Taxes_2024</th>\n",
       "      <th>Taxes_Delta(22-24)</th>\n",
       "      <th>Taxes_Delta(18-24)</th>\n",
       "      <th>Delta (% Income)</th>\n",
       "    </tr>\n",
       "  </thead>\n",
       "  <tbody>\n",
       "    <tr>\n",
       "      <th>0</th>\n",
       "      <td>8</td>\n",
       "      <td>1</td>\n",
       "      <td>0</td>\n",
       "      <td>1</td>\n",
       "      <td>66421.710251</td>\n",
       "      <td>3</td>\n",
       "      <td>5</td>\n",
       "      <td>2600</td>\n",
       "      <td>14462.490036</td>\n",
       "      <td>13922.490036</td>\n",
       "      <td>12846.947280</td>\n",
       "      <td>1075.542756</td>\n",
       "      <td>1615.542756</td>\n",
       "      <td>1.619264</td>\n",
       "    </tr>\n",
       "    <tr>\n",
       "      <th>1</th>\n",
       "      <td>4</td>\n",
       "      <td>1</td>\n",
       "      <td>0</td>\n",
       "      <td>0</td>\n",
       "      <td>58349.209086</td>\n",
       "      <td>2</td>\n",
       "      <td>5</td>\n",
       "      <td>2600</td>\n",
       "      <td>11677.477135</td>\n",
       "      <td>11137.477135</td>\n",
       "      <td>10263.746907</td>\n",
       "      <td>873.730227</td>\n",
       "      <td>1413.730227</td>\n",
       "      <td>1.497416</td>\n",
       "    </tr>\n",
       "    <tr>\n",
       "      <th>2</th>\n",
       "      <td>6</td>\n",
       "      <td>1</td>\n",
       "      <td>0</td>\n",
       "      <td>1</td>\n",
       "      <td>110563.450792</td>\n",
       "      <td>4</td>\n",
       "      <td>9</td>\n",
       "      <td>2600</td>\n",
       "      <td>30616.745809</td>\n",
       "      <td>29151.390523</td>\n",
       "      <td>26972.304254</td>\n",
       "      <td>2179.086270</td>\n",
       "      <td>3644.441555</td>\n",
       "      <td>1.970892</td>\n",
       "    </tr>\n",
       "    <tr>\n",
       "      <th>3</th>\n",
       "      <td>9</td>\n",
       "      <td>1</td>\n",
       "      <td>0</td>\n",
       "      <td>0</td>\n",
       "      <td>115868.452096</td>\n",
       "      <td>4</td>\n",
       "      <td>5</td>\n",
       "      <td>2600</td>\n",
       "      <td>32685.696317</td>\n",
       "      <td>30981.615973</td>\n",
       "      <td>28669.904671</td>\n",
       "      <td>2311.711302</td>\n",
       "      <td>4015.791647</td>\n",
       "      <td>1.995117</td>\n",
       "    </tr>\n",
       "    <tr>\n",
       "      <th>4</th>\n",
       "      <td>8</td>\n",
       "      <td>1</td>\n",
       "      <td>0</td>\n",
       "      <td>1</td>\n",
       "      <td>24610.234001</td>\n",
       "      <td>1</td>\n",
       "      <td>2</td>\n",
       "      <td>2600</td>\n",
       "      <td>1710.149140</td>\n",
       "      <td>1710.149140</td>\n",
       "      <td>1710.149140</td>\n",
       "      <td>0.000000</td>\n",
       "      <td>0.000000</td>\n",
       "      <td>0.000000</td>\n",
       "    </tr>\n",
       "  </tbody>\n",
       "</table>\n",
       "</div>"
      ],
      "text/plain": [
       "   age_range  Gender  Region  Partner_status  Taxable_Income  Income  \\\n",
       "0          8       1       0               1    66421.710251       3   \n",
       "1          4       1       0               0    58349.209086       2   \n",
       "2          6       1       0               1   110563.450792       4   \n",
       "3          9       1       0               0   115868.452096       4   \n",
       "4          8       1       0               1    24610.234001       1   \n",
       "\n",
       "   Occ_code  Postal    Taxes_2018    Taxes_2022    Taxes_2024  \\\n",
       "0         5    2600  14462.490036  13922.490036  12846.947280   \n",
       "1         5    2600  11677.477135  11137.477135  10263.746907   \n",
       "2         9    2600  30616.745809  29151.390523  26972.304254   \n",
       "3         5    2600  32685.696317  30981.615973  28669.904671   \n",
       "4         2    2600   1710.149140   1710.149140   1710.149140   \n",
       "\n",
       "   Taxes_Delta(22-24)  Taxes_Delta(18-24)  Delta (% Income)  \n",
       "0         1075.542756         1615.542756          1.619264  \n",
       "1          873.730227         1413.730227          1.497416  \n",
       "2         2179.086270         3644.441555          1.970892  \n",
       "3         2311.711302         4015.791647          1.995117  \n",
       "4            0.000000            0.000000          0.000000  "
      ]
     },
     "execution_count": 3,
     "metadata": {},
     "output_type": "execute_result"
    }
   ],
   "source": [
    "pop.head()"
   ]
  },
  {
   "cell_type": "code",
   "execution_count": 4,
   "metadata": {},
   "outputs": [],
   "source": [
    "import matplotlib.pyplot as plt"
   ]
  },
  {
   "cell_type": "code",
   "execution_count": 5,
   "metadata": {},
   "outputs": [],
   "source": [
    "import seaborn as sns"
   ]
  },
  {
   "cell_type": "code",
   "execution_count": 7,
   "metadata": {},
   "outputs": [
    {
     "data": {
      "text/plain": [
       "<Axes: xlabel='Taxes_Delta(22-24)', ylabel='Density'>"
      ]
     },
     "execution_count": 7,
     "metadata": {},
     "output_type": "execute_result"
    },
    {
     "data": {
      "image/png": "[encoded data removed]",
      "text/plain": [
       "<Figure size 640x480 with 1 Axes>"
      ]
     },
     "metadata": {},
     "output_type": "display_data"
    }
   ],
   "source": [
    "sns.kdeplot(pop[\"Taxes_Delta(22-24)\"])"
   ]
  },
  {
   "cell_type": "code",
   "execution_count": 8,
   "metadata": {},
   "outputs": [],
   "source": [
    "import numpy as np"
   ]
  },
  {
   "cell_type": "code",
   "execution_count": 12,
   "metadata": {},
   "outputs": [],
   "source": [
    "incomeCost = pop.groupby(\"Income\").agg(\n",
    "    {   \n",
    "        'Partner_status' : 'mean',\n",
    "        'Gender' : 'mean', \n",
    "        'Taxable_Income' : 'mean', \n",
    "        'Taxes_2022' : 'mean', \n",
    "        'Taxes_2024' : 'mean',\n",
    "        'Taxes_Delta(22-24)' : [np.mean, np.sum],\n",
    "    }\n",
    ")"
   ]
  },
  {
   "cell_type": "code",
   "execution_count": 14,
   "metadata": {},
   "outputs": [],
   "source": [
    "pd.set_option(\"display.precision\", 3)"
   ]
  },
  {
   "cell_type": "code",
   "execution_count": 19,
   "metadata": {},
   "outputs": [],
   "source": [
    "incomeCost.to_html(\"../Output Files/incomeCost.html\")"
   ]
  },
  {
   "cell_type": "code",
   "execution_count": 20,
   "metadata": {},
   "outputs": [
    {
     "data": {
      "text/html": [
       "<div>\n",
       "<style scoped>\n",
       "    .dataframe tbody tr th:only-of-type {\n",
       "        vertical-align: middle;\n",
       "    }\n",
       "\n",
       "    .dataframe tbody tr th {\n",
       "        vertical-align: top;\n",
       "    }\n",
       "\n",
       "    .dataframe thead tr th {\n",
       "        text-align: left;\n",
       "    }\n",
       "\n",
       "    .dataframe thead tr:last-of-type th {\n",
       "        text-align: right;\n",
       "    }\n",
       "</style>\n",
       "<table border=\"1\" class=\"dataframe\">\n",
       "  <thead>\n",
       "    <tr>\n",
       "      <th></th>\n",
       "      <th>Partner_status</th>\n",
       "      <th>Gender</th>\n",
       "      <th>Taxable_Income</th>\n",
       "      <th>Taxes_2022</th>\n",
       "      <th>Taxes_2024</th>\n",
       "      <th colspan=\"2\" halign=\"left\">Taxes_Delta(22-24)</th>\n",
       "    </tr>\n",
       "    <tr>\n",
       "      <th></th>\n",
       "      <th>mean</th>\n",
       "      <th>mean</th>\n",
       "      <th>mean</th>\n",
       "      <th>mean</th>\n",
       "      <th>mean</th>\n",
       "      <th>mean</th>\n",
       "      <th>sum</th>\n",
       "    </tr>\n",
       "    <tr>\n",
       "      <th>Income</th>\n",
       "      <th></th>\n",
       "      <th></th>\n",
       "      <th></th>\n",
       "      <th></th>\n",
       "      <th></th>\n",
       "      <th></th>\n",
       "      <th></th>\n",
       "    </tr>\n",
       "  </thead>\n",
       "  <tbody>\n",
       "    <tr>\n",
       "      <th>0</th>\n",
       "      <td>0.534</td>\n",
       "      <td>0.555</td>\n",
       "      <td>17438.423</td>\n",
       "      <td>478.205</td>\n",
       "      <td>478.205</td>\n",
       "      <td>0.000</td>\n",
       "      <td>0.000e+00</td>\n",
       "    </tr>\n",
       "    <tr>\n",
       "      <th>1</th>\n",
       "      <td>0.442</td>\n",
       "      <td>0.589</td>\n",
       "      <td>30744.791</td>\n",
       "      <td>2999.458</td>\n",
       "      <td>2998.406</td>\n",
       "      <td>1.052</td>\n",
       "      <td>3.175e+06</td>\n",
       "    </tr>\n",
       "    <tr>\n",
       "      <th>2</th>\n",
       "      <td>0.493</td>\n",
       "      <td>0.505</td>\n",
       "      <td>52636.329</td>\n",
       "      <td>9166.533</td>\n",
       "      <td>8466.976</td>\n",
       "      <td>699.558</td>\n",
       "      <td>2.287e+09</td>\n",
       "    </tr>\n",
       "    <tr>\n",
       "      <th>3</th>\n",
       "      <td>0.595</td>\n",
       "      <td>0.460</td>\n",
       "      <td>77081.757</td>\n",
       "      <td>17600.206</td>\n",
       "      <td>16258.162</td>\n",
       "      <td>1342.044</td>\n",
       "      <td>3.339e+09</td>\n",
       "    </tr>\n",
       "    <tr>\n",
       "      <th>4</th>\n",
       "      <td>0.719</td>\n",
       "      <td>0.389</td>\n",
       "      <td>121322.406</td>\n",
       "      <td>33103.248</td>\n",
       "      <td>30415.170</td>\n",
       "      <td>2688.078</td>\n",
       "      <td>7.471e+09</td>\n",
       "    </tr>\n",
       "    <tr>\n",
       "      <th>5</th>\n",
       "      <td>0.813</td>\n",
       "      <td>0.278</td>\n",
       "      <td>310619.325</td>\n",
       "      <td>116671.877</td>\n",
       "      <td>107920.912</td>\n",
       "      <td>8750.965</td>\n",
       "      <td>4.868e+09</td>\n",
       "    </tr>\n",
       "  </tbody>\n",
       "</table>\n",
       "</div>"
      ],
      "text/plain": [
       "       Partner_status Gender Taxable_Income  Taxes_2022  Taxes_2024  \\\n",
       "                 mean   mean           mean        mean        mean   \n",
       "Income                                                                \n",
       "0               0.534  0.555      17438.423     478.205     478.205   \n",
       "1               0.442  0.589      30744.791    2999.458    2998.406   \n",
       "2               0.493  0.505      52636.329    9166.533    8466.976   \n",
       "3               0.595  0.460      77081.757   17600.206   16258.162   \n",
       "4               0.719  0.389     121322.406   33103.248   30415.170   \n",
       "5               0.813  0.278     310619.325  116671.877  107920.912   \n",
       "\n",
       "       Taxes_Delta(22-24)             \n",
       "                     mean        sum  \n",
       "Income                                \n",
       "0                   0.000  0.000e+00  \n",
       "1                   1.052  3.175e+06  \n",
       "2                 699.558  2.287e+09  \n",
       "3                1342.044  3.339e+09  \n",
       "4                2688.078  7.471e+09  \n",
       "5                8750.965  4.868e+09  "
      ]
     },
     "execution_count": 20,
     "metadata": {},
     "output_type": "execute_result"
    }
   ],
   "source": [
    " incomeCost"
   ]
  },
  {
   "cell_type": "code",
   "execution_count": null,
   "metadata": {},
   "outputs": [],
   "source": []
  }
 ],
 "metadata": {
  "kernelspec": {
   "display_name": "Python 3",
   "language": "python",
   "name": "python3"
  },
  "language_info": {
   "codemirror_mode": {
    "name": "ipython",
    "version": 3
   },
   "file_extension": ".py",
   "mimetype": "text/x-python",
   "name": "python",
   "nbconvert_exporter": "python",
   "pygments_lexer": "ipython3",
   "version": "3.10.12"
  },
  "orig_nbformat": 4
 },
 "nbformat": 4,
 "nbformat_minor": 2
}
