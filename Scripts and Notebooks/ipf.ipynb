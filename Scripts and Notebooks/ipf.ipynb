{
 "cells": [
  {
   "cell_type": "code",
   "execution_count": 199,
   "metadata": {},
   "outputs": [],
   "source": [
    "import numpy as np\n",
    "\n",
    "rowSums = np.array([5, 15, 8]).T\n",
    "colSums = np.array([11, 9, 8])\n",
    "\n",
    "seed = np.array([[1, 2, 1], [3, 5, 5], [6, 2, 2]])\n",
    "\n",
    "def ipf(seed, rowSums, colSums):\n",
    "    \n",
    "    iter = 0\n",
    "    while (~np.allclose(rowSums, np.sum(seed, axis = 1), 0.001) and  ~np.allclose(colSums, np.sum(seed, axis = 0)), 0.001) and iter < 100:\n",
    "\n",
    "        seed = (seed.T * (rowSums / np.sum(seed, axis = 1))).T\n",
    "        seed = (seed * (colSums / np.sum(seed, axis = 0)))\n",
    "        iter += 1\n",
    "\n",
    "    return seed"
   ]
  },
  {
   "cell_type": "code",
   "execution_count": 203,
   "metadata": {},
   "outputs": [
    {
     "data": {
      "text/plain": [
       "array([[1.51294236, 2.30951883, 1.17753882],\n",
       "       [4.2025351 , 5.34600339, 5.45146151],\n",
       "       [5.28452254, 1.34447778, 1.37099967]])"
      ]
     },
     "execution_count": 203,
     "metadata": {},
     "output_type": "execute_result"
    }
   ],
   "source": []
  }
 ],
 "metadata": {
  "kernelspec": {
   "display_name": "Python 3",
   "language": "python",
   "name": "python3"
  },
  "language_info": {
   "codemirror_mode": {
    "name": "ipython",
    "version": 3
   },
   "file_extension": ".py",
   "mimetype": "text/x-python",
   "name": "python",
   "nbconvert_exporter": "python",
   "pygments_lexer": "ipython3",
   "version": "3.10.12"
  },
  "orig_nbformat": 4
 },
 "nbformat": 4,
 "nbformat_minor": 2
}
