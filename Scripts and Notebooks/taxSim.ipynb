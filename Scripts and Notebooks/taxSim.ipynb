{
 "cells": [
  {
   "cell_type": "code",
   "execution_count": 1,
   "metadata": {},
   "outputs": [],
   "source": [
    "import pandas as pd\n",
    "import numpy as np"
   ]
  },
  {
   "cell_type": "code",
   "execution_count": 2,
   "metadata": {},
   "outputs": [
    {
     "name": "stderr",
     "output_type": "stream",
     "text": [
      "C:\\Users\\orect\\AppData\\Local\\Temp\\ipykernel_13416\\2721676130.py:2: DtypeWarning: Columns (0,1,2,3,4,5,7,8,9,10,11,12) have mixed types. Specify dtype option on import or set low_memory=False.\n",
      "  pd.read_csv(\"../Output Files/synthPopulation.csv\"),\n",
      "C:\\Users\\orect\\AppData\\Local\\Temp\\ipykernel_13416\\2721676130.py:3: DtypeWarning: Columns (0,1,2,3,4,5,7,8,9,10,11,12) have mixed types. Specify dtype option on import or set low_memory=False.\n",
      "  pd.read_csv(\"../Output Files/synthFailPopulation.csv\"),\n",
      "C:\\Users\\orect\\AppData\\Local\\Temp\\ipykernel_13416\\2721676130.py:4: DtypeWarning: Columns (0,1,2,3,4,5,6,7,9,10,11,12) have mixed types. Specify dtype option on import or set low_memory=False.\n",
      "  pd.read_csv(\"../Output Files/synthFailPostalPopulation.csv\")\n"
     ]
    }
   ],
   "source": [
    "dataFiles = [\n",
    "    pd.read_csv(\"../Output Files/synthPopulation.csv\"), \n",
    "    pd.read_csv(\"../Output Files/synthFailPopulation.csv\"), \n",
    "    pd.read_csv(\"../Output Files/synthFailPostalPopulation.csv\")\n",
    "    ]"
   ]
  },
  {
   "cell_type": "code",
   "execution_count": 3,
   "metadata": {},
   "outputs": [],
   "source": [
    "synthPop = pd.concat(dataFiles, ignore_index=True)"
   ]
  },
  {
   "cell_type": "code",
   "execution_count": 4,
   "metadata": {},
   "outputs": [
    {
     "data": {
      "text/html": [
       "<div>\n",
       "<style scoped>\n",
       "    .dataframe tbody tr th:only-of-type {\n",
       "        vertical-align: middle;\n",
       "    }\n",
       "\n",
       "    .dataframe tbody tr th {\n",
       "        vertical-align: top;\n",
       "    }\n",
       "\n",
       "    .dataframe thead th {\n",
       "        text-align: right;\n",
       "    }\n",
       "</style>\n",
       "<table border=\"1\" class=\"dataframe\">\n",
       "  <thead>\n",
       "    <tr style=\"text-align: right;\">\n",
       "      <th></th>\n",
       "      <th>hsize</th>\n",
       "      <th>age_range</th>\n",
       "      <th>Gender</th>\n",
       "      <th>Region</th>\n",
       "      <th>Partner_status</th>\n",
       "      <th>weight</th>\n",
       "      <th>Taxable_IncomeCat</th>\n",
       "      <th>Taxable_Income</th>\n",
       "      <th>Income</th>\n",
       "      <th>Occ_code</th>\n",
       "      <th>Postal</th>\n",
       "      <th>hhid</th>\n",
       "      <th>pid</th>\n",
       "    </tr>\n",
       "  </thead>\n",
       "  <tbody>\n",
       "    <tr>\n",
       "      <th>0</th>\n",
       "      <td>1</td>\n",
       "      <td>8</td>\n",
       "      <td>1</td>\n",
       "      <td>0</td>\n",
       "      <td>1</td>\n",
       "      <td>1</td>\n",
       "      <td>(6.07e+04,8.54e+04]</td>\n",
       "      <td>66421.710251</td>\n",
       "      <td>3</td>\n",
       "      <td>5</td>\n",
       "      <td>2600</td>\n",
       "      <td>1</td>\n",
       "      <td>1.1</td>\n",
       "    </tr>\n",
       "    <tr>\n",
       "      <th>1</th>\n",
       "      <td>1</td>\n",
       "      <td>4</td>\n",
       "      <td>1</td>\n",
       "      <td>0</td>\n",
       "      <td>0</td>\n",
       "      <td>1</td>\n",
       "      <td>(3.74e+04,6.07e+04]</td>\n",
       "      <td>58349.209086</td>\n",
       "      <td>2</td>\n",
       "      <td>5</td>\n",
       "      <td>2600</td>\n",
       "      <td>2</td>\n",
       "      <td>2.1</td>\n",
       "    </tr>\n",
       "    <tr>\n",
       "      <th>2</th>\n",
       "      <td>1</td>\n",
       "      <td>6</td>\n",
       "      <td>1</td>\n",
       "      <td>0</td>\n",
       "      <td>1</td>\n",
       "      <td>1</td>\n",
       "      <td>(8.54e+04,1.17e+05]</td>\n",
       "      <td>110563.450792</td>\n",
       "      <td>4</td>\n",
       "      <td>9</td>\n",
       "      <td>2600</td>\n",
       "      <td>3</td>\n",
       "      <td>3.1</td>\n",
       "    </tr>\n",
       "    <tr>\n",
       "      <th>3</th>\n",
       "      <td>1</td>\n",
       "      <td>9</td>\n",
       "      <td>1</td>\n",
       "      <td>0</td>\n",
       "      <td>0</td>\n",
       "      <td>1</td>\n",
       "      <td>(8.54e+04,1.17e+05]</td>\n",
       "      <td>115868.452096</td>\n",
       "      <td>4</td>\n",
       "      <td>5</td>\n",
       "      <td>2600</td>\n",
       "      <td>4</td>\n",
       "      <td>4.1</td>\n",
       "    </tr>\n",
       "    <tr>\n",
       "      <th>4</th>\n",
       "      <td>1</td>\n",
       "      <td>8</td>\n",
       "      <td>1</td>\n",
       "      <td>0</td>\n",
       "      <td>1</td>\n",
       "      <td>1</td>\n",
       "      <td>(2.09e+04,2.62e+04]</td>\n",
       "      <td>24610.234001</td>\n",
       "      <td>1</td>\n",
       "      <td>2</td>\n",
       "      <td>2600</td>\n",
       "      <td>5</td>\n",
       "      <td>5.1</td>\n",
       "    </tr>\n",
       "  </tbody>\n",
       "</table>\n",
       "</div>"
      ],
      "text/plain": [
       "  hsize age_range Gender Region Partner_status weight    Taxable_IncomeCat  \\\n",
       "0     1         8      1      0              1      1  (6.07e+04,8.54e+04]   \n",
       "1     1         4      1      0              0      1  (3.74e+04,6.07e+04]   \n",
       "2     1         6      1      0              1      1  (8.54e+04,1.17e+05]   \n",
       "3     1         9      1      0              0      1  (8.54e+04,1.17e+05]   \n",
       "4     1         8      1      0              1      1  (2.09e+04,2.62e+04]   \n",
       "\n",
       "  Taxable_Income Income Occ_code Postal hhid  pid  \n",
       "0   66421.710251      3        5   2600    1  1.1  \n",
       "1   58349.209086      2        5   2600    2  2.1  \n",
       "2  110563.450792      4        9   2600    3  3.1  \n",
       "3  115868.452096      4        5   2600    4  4.1  \n",
       "4   24610.234001      1        2   2600    5  5.1  "
      ]
     },
     "execution_count": 4,
     "metadata": {},
     "output_type": "execute_result"
    }
   ],
   "source": [
    "synthPop.head()"
   ]
  },
  {
   "cell_type": "code",
   "execution_count": 5,
   "metadata": {},
   "outputs": [],
   "source": [
    "synthPop = synthPop[['age_range', 'Gender', 'Region', 'Partner_status', 'Taxable_Income', 'Income', 'Occ_code', 'Postal']]"
   ]
  },
  {
   "cell_type": "code",
   "execution_count": 6,
   "metadata": {},
   "outputs": [],
   "source": [
    "synthPop = synthPop[synthPop[\"Taxable_Income\"] != \"Taxable_Income\"]"
   ]
  },
  {
   "cell_type": "code",
   "execution_count": 7,
   "metadata": {},
   "outputs": [],
   "source": [
    "synthPop = synthPop.dropna()"
   ]
  },
  {
   "cell_type": "code",
   "execution_count": 8,
   "metadata": {},
   "outputs": [],
   "source": [
    "synthPop[\"Taxable_Income\"] = pd.to_numeric(synthPop[\"Taxable_Income\"], errors='coerce')"
   ]
  },
  {
   "cell_type": "code",
   "execution_count": 9,
   "metadata": {},
   "outputs": [],
   "source": [
    "synthPop = synthPop.apply(pd.to_numeric)"
   ]
  },
  {
   "cell_type": "code",
   "execution_count": 60,
   "metadata": {},
   "outputs": [],
   "source": [
    "def jul2018(salary):\n",
    "    if salary > 0 and salary <= 18200:\n",
    "        return 0.02 * salary\n",
    "    elif salary > 18200 and salary <= 37000:\n",
    "        return 0.19 * (salary - 18200) + 0.02 * salary\n",
    "    elif salary > 37000 and salary <= 90000:\n",
    "        return 3572 + 0.325 * (salary - 37000) + 0.02 * salary\n",
    "    elif salary > 90000 and salary <= 180000:\n",
    "        return 20797 + 0.37 * (salary - 90000) + 0.02 * salary\n",
    "    elif salary > 180000:\n",
    "        return 54097 + 0.45 * (salary - 180000) + 0.02 * salary"
   ]
  },
  {
   "cell_type": "code",
   "execution_count": 61,
   "metadata": {},
   "outputs": [],
   "source": [
    "def jul2022(salary):\n",
    "    if salary > 0 and salary <= 18200:\n",
    "        return 0.02 * salary\n",
    "    elif salary > 18200 and salary <= 41000:\n",
    "        return 0.19 * (salary - 18200) + 0.02 * salary\n",
    "    elif salary > 41000 and salary <= 120000:\n",
    "        return 4332 + 0.325 * (salary - 41000) + 0.02 * salary\n",
    "    elif salary > 120000 and salary <= 180000:\n",
    "        return  29467 + 0.37 * (salary - 120000) + 0.02 * salary #30007\n",
    "    elif salary > 180000:\n",
    "        return  51667 + 0.45 * (salary - 180000) + 0.02 * salary #52207"
   ]
  },
  {
   "cell_type": "code",
   "execution_count": 88,
   "metadata": {},
   "outputs": [],
   "source": [
    "def jul2024(salary):\n",
    "    if salary > 0 and salary <= 18200:\n",
    "        return 0.02 * salary\n",
    "    elif salary > 18200 and salary <= 45000:\n",
    "        return 0.19 * (salary - 18200) + 0.02 * salary\n",
    "    elif salary > 45000 and salary <= 200000:\n",
    "        return 5092 + 0.3 * (salary - 45000) + 0.02 * salary\n",
    "    elif salary > 200000:\n",
    "        return 51592 + 0.45 * (salary - 200000) + 0.02 * salary"
   ]
  },
  {
   "cell_type": "code",
   "execution_count": 90,
   "metadata": {},
   "outputs": [
    {
     "data": {
      "text/plain": [
       "-9075.0"
      ]
     },
     "execution_count": 90,
     "metadata": {},
     "output_type": "execute_result"
    }
   ],
   "source": [
    "jul2024(300001) - jul2022(300001)"
   ]
  },
  {
   "cell_type": "code",
   "execution_count": 91,
   "metadata": {},
   "outputs": [],
   "source": [
    "synthPop[\"Taxes_2018\"] = synthPop[\"Taxable_Income\"].apply(lambda x: jul2018(x))\n",
    "\n",
    "synthPop[\"Taxes_2022\"] = synthPop[\"Taxable_Income\"].apply(lambda x: jul2022(x))\n",
    "\n",
    "synthPop[\"Taxes_2024\"] = synthPop[\"Taxable_Income\"].apply(lambda x: jul2024(x))"
   ]
  },
  {
   "cell_type": "code",
   "execution_count": null,
   "metadata": {},
   "outputs": [],
   "source": [
    "synthPop[\"Taxes_Delta(22-24)\"] = synthPop[\"Taxes_2022\"] - synthPop[\"Taxes_2024\"]\n",
    "\n",
    "synthPop[\"Taxes_Delta(18-24)\"] = synthPop[\"Taxes_2018\"] - synthPop[\"Taxes_2024\"] "
   ]
  },
  {
   "cell_type": "code",
   "execution_count": null,
   "metadata": {},
   "outputs": [],
   "source": [
    "synthPop[\"Delta (% Income)\"] = synthPop[\"Taxes_Delta(22-24)\"] * 100 / synthPop[\"Taxable_Income\"]"
   ]
  },
  {
   "cell_type": "code",
   "execution_count": null,
   "metadata": {},
   "outputs": [
    {
     "data": {
      "text/html": [
       "<div>\n",
       "<style scoped>\n",
       "    .dataframe tbody tr th:only-of-type {\n",
       "        vertical-align: middle;\n",
       "    }\n",
       "\n",
       "    .dataframe tbody tr th {\n",
       "        vertical-align: top;\n",
       "    }\n",
       "\n",
       "    .dataframe thead th {\n",
       "        text-align: right;\n",
       "    }\n",
       "</style>\n",
       "<table border=\"1\" class=\"dataframe\">\n",
       "  <thead>\n",
       "    <tr style=\"text-align: right;\">\n",
       "      <th></th>\n",
       "      <th>age_range</th>\n",
       "      <th>Gender</th>\n",
       "      <th>Region</th>\n",
       "      <th>Partner_status</th>\n",
       "      <th>Taxable_Income</th>\n",
       "      <th>Income</th>\n",
       "      <th>Occ_code</th>\n",
       "      <th>Postal</th>\n",
       "      <th>Taxes_2018</th>\n",
       "      <th>Taxes_2022</th>\n",
       "      <th>Taxes_2024</th>\n",
       "      <th>Taxes_Delta(22-24)</th>\n",
       "      <th>Taxes_Delta(18-24)</th>\n",
       "      <th>Delta (% Income)</th>\n",
       "    </tr>\n",
       "  </thead>\n",
       "  <tbody>\n",
       "    <tr>\n",
       "      <th>count</th>\n",
       "      <td>1.289355e+07</td>\n",
       "      <td>1.289355e+07</td>\n",
       "      <td>1.289355e+07</td>\n",
       "      <td>1.289355e+07</td>\n",
       "      <td>1.289355e+07</td>\n",
       "      <td>1.289355e+07</td>\n",
       "      <td>1.289355e+07</td>\n",
       "      <td>1.289355e+07</td>\n",
       "      <td>1.289355e+07</td>\n",
       "      <td>1.289355e+07</td>\n",
       "      <td>1.289355e+07</td>\n",
       "      <td>1.289355e+07</td>\n",
       "      <td>1.289355e+07</td>\n",
       "      <td>1.289355e+07</td>\n",
       "    </tr>\n",
       "    <tr>\n",
       "      <th>mean</th>\n",
       "      <td>5.674768e+00</td>\n",
       "      <td>4.840121e-01</td>\n",
       "      <td>1.383927e+01</td>\n",
       "      <td>5.659385e-01</td>\n",
       "      <td>7.602909e+04</td>\n",
       "      <td>2.398053e+00</td>\n",
       "      <td>3.737876e+00</td>\n",
       "      <td>3.723937e+03</td>\n",
       "      <td>1.935006e+04</td>\n",
       "      <td>1.862095e+04</td>\n",
       "      <td>1.800841e+04</td>\n",
       "      <td>6.125400e+02</td>\n",
       "      <td>1.341647e+03</td>\n",
       "      <td>5.900890e-01</td>\n",
       "    </tr>\n",
       "    <tr>\n",
       "      <th>std</th>\n",
       "      <td>2.996410e+00</td>\n",
       "      <td>4.997443e-01</td>\n",
       "      <td>1.004463e+01</td>\n",
       "      <td>4.956331e-01</td>\n",
       "      <td>8.600486e+04</td>\n",
       "      <td>1.327377e+00</td>\n",
       "      <td>2.601804e+00</td>\n",
       "      <td>1.389522e+03</td>\n",
       "      <td>3.748199e+04</td>\n",
       "      <td>3.706779e+04</td>\n",
       "      <td>3.643920e+04</td>\n",
       "      <td>1.008076e+03</td>\n",
       "      <td>1.628081e+03</td>\n",
       "      <td>5.025337e-01</td>\n",
       "    </tr>\n",
       "    <tr>\n",
       "      <th>min</th>\n",
       "      <td>0.000000e+00</td>\n",
       "      <td>0.000000e+00</td>\n",
       "      <td>0.000000e+00</td>\n",
       "      <td>0.000000e+00</td>\n",
       "      <td>1.671216e-02</td>\n",
       "      <td>0.000000e+00</td>\n",
       "      <td>0.000000e+00</td>\n",
       "      <td>8.000000e+02</td>\n",
       "      <td>3.342432e-04</td>\n",
       "      <td>3.342432e-04</td>\n",
       "      <td>3.342432e-04</td>\n",
       "      <td>0.000000e+00</td>\n",
       "      <td>0.000000e+00</td>\n",
       "      <td>0.000000e+00</td>\n",
       "    </tr>\n",
       "    <tr>\n",
       "      <th>25%</th>\n",
       "      <td>3.000000e+00</td>\n",
       "      <td>0.000000e+00</td>\n",
       "      <td>3.000000e+00</td>\n",
       "      <td>0.000000e+00</td>\n",
       "      <td>3.726526e+04</td>\n",
       "      <td>1.000000e+00</td>\n",
       "      <td>2.000000e+00</td>\n",
       "      <td>2.607000e+03</td>\n",
       "      <td>4.403516e+03</td>\n",
       "      <td>4.367706e+03</td>\n",
       "      <td>4.367706e+03</td>\n",
       "      <td>0.000000e+00</td>\n",
       "      <td>3.581073e+01</td>\n",
       "      <td>0.000000e+00</td>\n",
       "    </tr>\n",
       "    <tr>\n",
       "      <th>50%</th>\n",
       "      <td>6.000000e+00</td>\n",
       "      <td>0.000000e+00</td>\n",
       "      <td>1.300000e+01</td>\n",
       "      <td>1.000000e+00</td>\n",
       "      <td>5.985117e+04</td>\n",
       "      <td>2.000000e+00</td>\n",
       "      <td>3.000000e+00</td>\n",
       "      <td>3.215000e+03</td>\n",
       "      <td>1.219565e+04</td>\n",
       "      <td>1.165565e+04</td>\n",
       "      <td>1.111565e+04</td>\n",
       "      <td>5.400000e+02</td>\n",
       "      <td>1.080000e+03</td>\n",
       "      <td>6.177401e-01</td>\n",
       "    </tr>\n",
       "    <tr>\n",
       "      <th>75%</th>\n",
       "      <td>8.000000e+00</td>\n",
       "      <td>1.000000e+00</td>\n",
       "      <td>2.300000e+01</td>\n",
       "      <td>1.000000e+00</td>\n",
       "      <td>9.254565e+04</td>\n",
       "      <td>4.000000e+00</td>\n",
       "      <td>5.000000e+00</td>\n",
       "      <td>4.520000e+03</td>\n",
       "      <td>2.358980e+04</td>\n",
       "      <td>2.293525e+04</td>\n",
       "      <td>2.239525e+04</td>\n",
       "      <td>5.400000e+02</td>\n",
       "      <td>1.194554e+03</td>\n",
       "      <td>9.003908e-01</td>\n",
       "    </tr>\n",
       "    <tr>\n",
       "      <th>max</th>\n",
       "      <td>1.100000e+01</td>\n",
       "      <td>1.000000e+00</td>\n",
       "      <td>3.200000e+01</td>\n",
       "      <td>1.000000e+00</td>\n",
       "      <td>4.967309e+07</td>\n",
       "      <td>5.000000e+00</td>\n",
       "      <td>9.000000e+00</td>\n",
       "      <td>9.797000e+03</td>\n",
       "      <td>2.331945e+07</td>\n",
       "      <td>2.331702e+07</td>\n",
       "      <td>2.331182e+07</td>\n",
       "      <td>5.200000e+03</td>\n",
       "      <td>7.630000e+03</td>\n",
       "      <td>2.599999e+00</td>\n",
       "    </tr>\n",
       "  </tbody>\n",
       "</table>\n",
       "</div>"
      ],
      "text/plain": [
       "          age_range        Gender        Region  Partner_status  \\\n",
       "count  1.289355e+07  1.289355e+07  1.289355e+07    1.289355e+07   \n",
       "mean   5.674768e+00  4.840121e-01  1.383927e+01    5.659385e-01   \n",
       "std    2.996410e+00  4.997443e-01  1.004463e+01    4.956331e-01   \n",
       "min    0.000000e+00  0.000000e+00  0.000000e+00    0.000000e+00   \n",
       "25%    3.000000e+00  0.000000e+00  3.000000e+00    0.000000e+00   \n",
       "50%    6.000000e+00  0.000000e+00  1.300000e+01    1.000000e+00   \n",
       "75%    8.000000e+00  1.000000e+00  2.300000e+01    1.000000e+00   \n",
       "max    1.100000e+01  1.000000e+00  3.200000e+01    1.000000e+00   \n",
       "\n",
       "       Taxable_Income        Income      Occ_code        Postal    Taxes_2018  \\\n",
       "count    1.289355e+07  1.289355e+07  1.289355e+07  1.289355e+07  1.289355e+07   \n",
       "mean     7.602909e+04  2.398053e+00  3.737876e+00  3.723937e+03  1.935006e+04   \n",
       "std      8.600486e+04  1.327377e+00  2.601804e+00  1.389522e+03  3.748199e+04   \n",
       "min      1.671216e-02  0.000000e+00  0.000000e+00  8.000000e+02  3.342432e-04   \n",
       "25%      3.726526e+04  1.000000e+00  2.000000e+00  2.607000e+03  4.403516e+03   \n",
       "50%      5.985117e+04  2.000000e+00  3.000000e+00  3.215000e+03  1.219565e+04   \n",
       "75%      9.254565e+04  4.000000e+00  5.000000e+00  4.520000e+03  2.358980e+04   \n",
       "max      4.967309e+07  5.000000e+00  9.000000e+00  9.797000e+03  2.331945e+07   \n",
       "\n",
       "         Taxes_2022    Taxes_2024  Taxes_Delta(22-24)  Taxes_Delta(18-24)  \\\n",
       "count  1.289355e+07  1.289355e+07        1.289355e+07        1.289355e+07   \n",
       "mean   1.862095e+04  1.800841e+04        6.125400e+02        1.341647e+03   \n",
       "std    3.706779e+04  3.643920e+04        1.008076e+03        1.628081e+03   \n",
       "min    3.342432e-04  3.342432e-04        0.000000e+00        0.000000e+00   \n",
       "25%    4.367706e+03  4.367706e+03        0.000000e+00        3.581073e+01   \n",
       "50%    1.165565e+04  1.111565e+04        5.400000e+02        1.080000e+03   \n",
       "75%    2.293525e+04  2.239525e+04        5.400000e+02        1.194554e+03   \n",
       "max    2.331702e+07  2.331182e+07        5.200000e+03        7.630000e+03   \n",
       "\n",
       "       Delta (% Income)  \n",
       "count      1.289355e+07  \n",
       "mean       5.900890e-01  \n",
       "std        5.025337e-01  \n",
       "min        0.000000e+00  \n",
       "25%        0.000000e+00  \n",
       "50%        6.177401e-01  \n",
       "75%        9.003908e-01  \n",
       "max        2.599999e+00  "
      ]
     },
     "execution_count": 81,
     "metadata": {},
     "output_type": "execute_result"
    }
   ],
   "source": [
    "synthPop.describe()"
   ]
  },
  {
   "cell_type": "code",
   "execution_count": null,
   "metadata": {},
   "outputs": [],
   "source": []
  },
  {
   "cell_type": "code",
   "execution_count": null,
   "metadata": {},
   "outputs": [],
   "source": []
  },
  {
   "cell_type": "code",
   "execution_count": null,
   "metadata": {},
   "outputs": [],
   "source": [
    "synthPop.to_csv('../Output Files/synthPop.csv', index=False)"
   ]
  },
  {
   "cell_type": "code",
   "execution_count": 23,
   "metadata": {},
   "outputs": [
    {
     "data": {
      "text/plain": [
       "Index(['age_range', 'Gender', 'Region', 'Partner_status', 'Taxable_Income',\n",
       "       'Income', 'Occ_code', 'Postal', 'Taxes_2018', 'Taxes_2022',\n",
       "       'Taxes_2024', 'Taxes_Delta(22-24)', 'Taxes_Delta(18-24)',\n",
       "       'Delta (% Income)'],\n",
       "      dtype='object')"
      ]
     },
     "execution_count": 23,
     "metadata": {},
     "output_type": "execute_result"
    }
   ],
   "source": [
    "synthPop.columns"
   ]
  },
  {
   "cell_type": "code",
   "execution_count": 31,
   "metadata": {},
   "outputs": [
    {
     "data": {
      "text/html": [
       "<div>\n",
       "<style scoped>\n",
       "    .dataframe tbody tr th:only-of-type {\n",
       "        vertical-align: middle;\n",
       "    }\n",
       "\n",
       "    .dataframe tbody tr th {\n",
       "        vertical-align: top;\n",
       "    }\n",
       "\n",
       "    .dataframe thead th {\n",
       "        text-align: right;\n",
       "    }\n",
       "</style>\n",
       "<table border=\"1\" class=\"dataframe\">\n",
       "  <thead>\n",
       "    <tr style=\"text-align: right;\">\n",
       "      <th></th>\n",
       "      <th>age_range</th>\n",
       "      <th>Gender</th>\n",
       "      <th>Region</th>\n",
       "      <th>Partner_status</th>\n",
       "      <th>Taxable_Income</th>\n",
       "      <th>Income</th>\n",
       "      <th>Occ_code</th>\n",
       "      <th>Postal</th>\n",
       "      <th>Taxes_2022</th>\n",
       "      <th>Taxes_2024</th>\n",
       "      <th>Taxes_Delta</th>\n",
       "      <th>Delta (% Income)</th>\n",
       "    </tr>\n",
       "  </thead>\n",
       "  <tbody>\n",
       "    <tr>\n",
       "      <th>count</th>\n",
       "      <td>1.289355e+07</td>\n",
       "      <td>1.289355e+07</td>\n",
       "      <td>1.289355e+07</td>\n",
       "      <td>1.289355e+07</td>\n",
       "      <td>1.289355e+07</td>\n",
       "      <td>1.289355e+07</td>\n",
       "      <td>1.289355e+07</td>\n",
       "      <td>1.289355e+07</td>\n",
       "      <td>1.289355e+07</td>\n",
       "      <td>1.289355e+07</td>\n",
       "      <td>1.289355e+07</td>\n",
       "      <td>1.289355e+07</td>\n",
       "    </tr>\n",
       "    <tr>\n",
       "      <th>mean</th>\n",
       "      <td>5.674768e+00</td>\n",
       "      <td>4.840121e-01</td>\n",
       "      <td>1.383927e+01</td>\n",
       "      <td>5.659385e-01</td>\n",
       "      <td>7.602909e+04</td>\n",
       "      <td>2.398053e+00</td>\n",
       "      <td>3.737876e+00</td>\n",
       "      <td>3.723937e+03</td>\n",
       "      <td>1.717505e+04</td>\n",
       "      <td>1.685915e+04</td>\n",
       "      <td>-3.158975e+02</td>\n",
       "      <td>-1.481167e-01</td>\n",
       "    </tr>\n",
       "    <tr>\n",
       "      <th>std</th>\n",
       "      <td>2.996410e+00</td>\n",
       "      <td>4.997443e-01</td>\n",
       "      <td>1.004463e+01</td>\n",
       "      <td>4.956331e-01</td>\n",
       "      <td>8.600486e+04</td>\n",
       "      <td>1.327377e+00</td>\n",
       "      <td>2.601804e+00</td>\n",
       "      <td>1.389522e+03</td>\n",
       "      <td>3.545346e+04</td>\n",
       "      <td>3.480574e+04</td>\n",
       "      <td>1.064822e+03</td>\n",
       "      <td>4.568034e-01</td>\n",
       "    </tr>\n",
       "    <tr>\n",
       "      <th>min</th>\n",
       "      <td>0.000000e+00</td>\n",
       "      <td>0.000000e+00</td>\n",
       "      <td>0.000000e+00</td>\n",
       "      <td>0.000000e+00</td>\n",
       "      <td>1.671216e-02</td>\n",
       "      <td>0.000000e+00</td>\n",
       "      <td>0.000000e+00</td>\n",
       "      <td>8.000000e+02</td>\n",
       "      <td>0.000000e+00</td>\n",
       "      <td>0.000000e+00</td>\n",
       "      <td>-5.200000e+03</td>\n",
       "      <td>-2.599999e+00</td>\n",
       "    </tr>\n",
       "    <tr>\n",
       "      <th>25%</th>\n",
       "      <td>3.000000e+00</td>\n",
       "      <td>0.000000e+00</td>\n",
       "      <td>3.000000e+00</td>\n",
       "      <td>0.000000e+00</td>\n",
       "      <td>3.726526e+04</td>\n",
       "      <td>1.000000e+00</td>\n",
       "      <td>2.000000e+00</td>\n",
       "      <td>2.607000e+03</td>\n",
       "      <td>3.622400e+03</td>\n",
       "      <td>3.622400e+03</td>\n",
       "      <td>0.000000e+00</td>\n",
       "      <td>0.000000e+00</td>\n",
       "    </tr>\n",
       "    <tr>\n",
       "      <th>50%</th>\n",
       "      <td>6.000000e+00</td>\n",
       "      <td>0.000000e+00</td>\n",
       "      <td>1.300000e+01</td>\n",
       "      <td>1.000000e+00</td>\n",
       "      <td>5.985117e+04</td>\n",
       "      <td>2.000000e+00</td>\n",
       "      <td>3.000000e+00</td>\n",
       "      <td>3.215000e+03</td>\n",
       "      <td>1.045863e+04</td>\n",
       "      <td>1.045863e+04</td>\n",
       "      <td>0.000000e+00</td>\n",
       "      <td>0.000000e+00</td>\n",
       "    </tr>\n",
       "    <tr>\n",
       "      <th>75%</th>\n",
       "      <td>8.000000e+00</td>\n",
       "      <td>1.000000e+00</td>\n",
       "      <td>2.300000e+01</td>\n",
       "      <td>1.000000e+00</td>\n",
       "      <td>9.254565e+04</td>\n",
       "      <td>4.000000e+00</td>\n",
       "      <td>5.000000e+00</td>\n",
       "      <td>4.520000e+03</td>\n",
       "      <td>2.108433e+04</td>\n",
       "      <td>2.108433e+04</td>\n",
       "      <td>0.000000e+00</td>\n",
       "      <td>0.000000e+00</td>\n",
       "    </tr>\n",
       "    <tr>\n",
       "      <th>max</th>\n",
       "      <td>1.100000e+01</td>\n",
       "      <td>1.000000e+00</td>\n",
       "      <td>3.200000e+01</td>\n",
       "      <td>1.000000e+00</td>\n",
       "      <td>4.967309e+07</td>\n",
       "      <td>5.000000e+00</td>\n",
       "      <td>9.000000e+00</td>\n",
       "      <td>9.797000e+03</td>\n",
       "      <td>2.232410e+07</td>\n",
       "      <td>2.231890e+07</td>\n",
       "      <td>0.000000e+00</td>\n",
       "      <td>0.000000e+00</td>\n",
       "    </tr>\n",
       "  </tbody>\n",
       "</table>\n",
       "</div>"
      ],
      "text/plain": [
       "          age_range        Gender        Region  Partner_status  \\\n",
       "count  1.289355e+07  1.289355e+07  1.289355e+07    1.289355e+07   \n",
       "mean   5.674768e+00  4.840121e-01  1.383927e+01    5.659385e-01   \n",
       "std    2.996410e+00  4.997443e-01  1.004463e+01    4.956331e-01   \n",
       "min    0.000000e+00  0.000000e+00  0.000000e+00    0.000000e+00   \n",
       "25%    3.000000e+00  0.000000e+00  3.000000e+00    0.000000e+00   \n",
       "50%    6.000000e+00  0.000000e+00  1.300000e+01    1.000000e+00   \n",
       "75%    8.000000e+00  1.000000e+00  2.300000e+01    1.000000e+00   \n",
       "max    1.100000e+01  1.000000e+00  3.200000e+01    1.000000e+00   \n",
       "\n",
       "       Taxable_Income        Income      Occ_code        Postal    Taxes_2022  \\\n",
       "count    1.289355e+07  1.289355e+07  1.289355e+07  1.289355e+07  1.289355e+07   \n",
       "mean     7.602909e+04  2.398053e+00  3.737876e+00  3.723937e+03  1.717505e+04   \n",
       "std      8.600486e+04  1.327377e+00  2.601804e+00  1.389522e+03  3.545346e+04   \n",
       "min      1.671216e-02  0.000000e+00  0.000000e+00  8.000000e+02  0.000000e+00   \n",
       "25%      3.726526e+04  1.000000e+00  2.000000e+00  2.607000e+03  3.622400e+03   \n",
       "50%      5.985117e+04  2.000000e+00  3.000000e+00  3.215000e+03  1.045863e+04   \n",
       "75%      9.254565e+04  4.000000e+00  5.000000e+00  4.520000e+03  2.108433e+04   \n",
       "max      4.967309e+07  5.000000e+00  9.000000e+00  9.797000e+03  2.232410e+07   \n",
       "\n",
       "         Taxes_2024   Taxes_Delta  Delta (% Income)  \n",
       "count  1.289355e+07  1.289355e+07      1.289355e+07  \n",
       "mean   1.685915e+04 -3.158975e+02     -1.481167e-01  \n",
       "std    3.480574e+04  1.064822e+03      4.568034e-01  \n",
       "min    0.000000e+00 -5.200000e+03     -2.599999e+00  \n",
       "25%    3.622400e+03  0.000000e+00      0.000000e+00  \n",
       "50%    1.045863e+04  0.000000e+00      0.000000e+00  \n",
       "75%    2.108433e+04  0.000000e+00      0.000000e+00  \n",
       "max    2.231890e+07  0.000000e+00      0.000000e+00  "
      ]
     },
     "execution_count": 31,
     "metadata": {},
     "output_type": "execute_result"
    }
   ],
   "source": [
    "synthPop.describe()"
   ]
  },
  {
   "cell_type": "code",
   "execution_count": 32,
   "metadata": {},
   "outputs": [],
   "source": [
    "synthCum = synthPop.groupby(\"Postal\").agg(\n",
    "    {\n",
    "        'age_range' : 'mean', \n",
    "        'Gender' : 'mean', \n",
    "        'Region' : pd.Series.mode,  \n",
    "        'Taxable_Income' : 'mean', \n",
    "        'Occ_code' : pd.Series.mode, \n",
    "        'Postal' :  'count', \n",
    "        'Taxes_2022' : 'mean', \n",
    "        'Taxes_2024' : 'mean',\n",
    "        'Taxes_Delta' : [np.mean, np.sum],\n",
    "        'Delta (% Income)' : 'mean',\n",
    "\n",
    "    }\n",
    ")"
   ]
  },
  {
   "cell_type": "code",
   "execution_count": 33,
   "metadata": {},
   "outputs": [],
   "source": [
    "synthCum.columns = [' '.join(col).strip() for col in synthCum.columns.values]\n",
    "\n",
    "synthCum = synthCum.reset_index()"
   ]
  },
  {
   "cell_type": "code",
   "execution_count": 34,
   "metadata": {},
   "outputs": [],
   "source": [
    "synthCum.to_csv('../Output Files/synthPopAgg.csv', index=False)"
   ]
  },
  {
   "cell_type": "code",
   "execution_count": 35,
   "metadata": {},
   "outputs": [
    {
     "data": {
      "text/plain": [
       "Index(['Postal', 'age_range mean', 'Gender mean', 'Region mode',\n",
       "       'Taxable_Income mean', 'Occ_code mode', 'Postal count',\n",
       "       'Taxes_2022 mean', 'Taxes_2024 mean', 'Taxes_Delta mean',\n",
       "       'Taxes_Delta sum', 'Delta (% Income) mean'],\n",
       "      dtype='object')"
      ]
     },
     "execution_count": 35,
     "metadata": {},
     "output_type": "execute_result"
    }
   ],
   "source": [
    "synthCum.columns"
   ]
  },
  {
   "cell_type": "code",
   "execution_count": 36,
   "metadata": {},
   "outputs": [],
   "source": [
    "import geopandas as gpd\n",
    "import pandas as pd"
   ]
  },
  {
   "cell_type": "code",
   "execution_count": 37,
   "metadata": {},
   "outputs": [],
   "source": [
    "synthCum = pd.read_csv('../Output Files/synthPopAgg.csv')"
   ]
  },
  {
   "cell_type": "code",
   "execution_count": 38,
   "metadata": {},
   "outputs": [],
   "source": [
    "geodata = gpd.read_file(\"../Data Files/POA Map/POA_2021_AUST_GDA2020.shp\")"
   ]
  },
  {
   "cell_type": "code",
   "execution_count": 39,
   "metadata": {},
   "outputs": [],
   "source": [
    "geodata = geodata[[\"POA_CODE21\", \"geometry\"]]\n",
    "\n",
    "geodata = geodata[geodata[\"POA_CODE21\"] != \"ZZZZ\"]"
   ]
  },
  {
   "cell_type": "code",
   "execution_count": 40,
   "metadata": {},
   "outputs": [],
   "source": [
    "geodata[\"POA_CODE21\"] = geodata[\"POA_CODE21\"].astype(int)"
   ]
  },
  {
   "cell_type": "code",
   "execution_count": 41,
   "metadata": {},
   "outputs": [],
   "source": [
    "geodata.dropna(inplace=True)"
   ]
  },
  {
   "cell_type": "code",
   "execution_count": 42,
   "metadata": {},
   "outputs": [
    {
     "data": {
      "text/plain": [
       "POA_CODE21    0\n",
       "geometry      0\n",
       "dtype: int64"
      ]
     },
     "execution_count": 42,
     "metadata": {},
     "output_type": "execute_result"
    }
   ],
   "source": [
    "geodata.isna().sum()"
   ]
  },
  {
   "cell_type": "code",
   "execution_count": 43,
   "metadata": {},
   "outputs": [],
   "source": [
    "geodata.to_csv('../Output Files/geodata.csv', index=False)"
   ]
  },
  {
   "cell_type": "code",
   "execution_count": 44,
   "metadata": {},
   "outputs": [],
   "source": [
    "synthPopGeo = pd.merge(left = synthCum, right = geodata, how = 'left', left_on = 'Postal', right_on = 'POA_CODE21').dropna()"
   ]
  },
  {
   "cell_type": "code",
   "execution_count": 45,
   "metadata": {},
   "outputs": [],
   "source": [
    "synthPopGeo = gpd.GeoDataFrame(synthPopGeo, geometry=\"geometry\")"
   ]
  },
  {
   "cell_type": "code",
   "execution_count": 12,
   "metadata": {},
   "outputs": [
    {
     "data": {
      "text/plain": [
       "Index                    20784\n",
       "Unnamed: 0               20784\n",
       "Postal                   20784\n",
       "age_range mean           20784\n",
       "Gender mean              20784\n",
       "Region mode              20784\n",
       "Taxable_Income mean      20784\n",
       "Occ_code mode            20784\n",
       "Postal count             20784\n",
       "Taxes_2022 mean          20784\n",
       "Taxes_2024 mean          20784\n",
       "Taxes_Delta mean         20784\n",
       "Taxes_Delta sum          20784\n",
       "Delta (% Income) mean    20784\n",
       "POA_CODE21               20784\n",
       "geometry                 20784\n",
       "dtype: int64"
      ]
     },
     "execution_count": 12,
     "metadata": {},
     "output_type": "execute_result"
    }
   ],
   "source": [
    "synthPopGeo.memory_usage()"
   ]
  },
  {
   "cell_type": "code",
   "execution_count": 14,
   "metadata": {},
   "outputs": [],
   "source": [
    "#synthPopGeo.to_csv('../Output Files/synthPopGeo.csv', index=False)"
   ]
  },
  {
   "cell_type": "code",
   "execution_count": 46,
   "metadata": {},
   "outputs": [],
   "source": [
    "synthPopGeo.to_file(\"../Output Files/synthPopGeo.geojson\", driver=\"GeoJSON\")"
   ]
  },
  {
   "cell_type": "code",
   "execution_count": null,
   "metadata": {},
   "outputs": [],
   "source": []
  }
 ],
 "metadata": {
  "kernelspec": {
   "display_name": "Python 3",
   "language": "python",
   "name": "python3"
  },
  "language_info": {
   "codemirror_mode": {
    "name": "ipython",
    "version": 3
   },
   "file_extension": ".py",
   "mimetype": "text/x-python",
   "name": "python",
   "nbconvert_exporter": "python",
   "pygments_lexer": "ipython3",
   "version": "3.10.12"
  },
  "orig_nbformat": 4
 },
 "nbformat": 4,
 "nbformat_minor": 2
}
